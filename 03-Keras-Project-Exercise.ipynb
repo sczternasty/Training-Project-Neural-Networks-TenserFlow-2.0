{
 "cells": [
  {
   "cell_type": "markdown",
   "metadata": {},
   "source": [
    "<a href=\"https://www.pieriandata.com\"><img src=\"../Pierian_Data_Logo.PNG\"></a>\n",
    "<strong><center>Copyright by Pierian Data Inc.</center></strong> \n",
    "<strong><center>Created by Jose Marcial Portilla.</center></strong>"
   ]
  },
  {
   "cell_type": "markdown",
   "metadata": {},
   "source": [
    "# Keras API Project Exercise\n",
    "\n",
    "## The Data\n",
    "\n",
    "We will be using a subset of the LendingClub DataSet obtained from Kaggle: https://www.kaggle.com/wordsforthewise/lending-club\n",
    "\n",
    "## NOTE: Do not download the full zip from the link! We provide a special version of this file that has some extra feature engineering for you to do. You won't be able to follow along with the original file!\n",
    "\n",
    "LendingClub is a US peer-to-peer lending company, headquartered in San Francisco, California.[3] It was the first peer-to-peer lender to register its offerings as securities with the Securities and Exchange Commission (SEC), and to offer loan trading on a secondary market. LendingClub is the world's largest peer-to-peer lending platform.\n",
    "\n",
    "### Our Goal\n",
    "\n",
    "Given historical data on loans given out with information on whether or not the borrower defaulted (charge-off), can we build a model thatcan predict wether or nor a borrower will pay back their loan? This way in the future when we get a new potential customer we can assess whether or not they are likely to pay back the loan. Keep in mind classification metrics when evaluating the performance of your model!\n",
    "\n",
    "The \"loan_status\" column contains our label.\n",
    "\n",
    "### Data Overview"
   ]
  },
  {
   "cell_type": "markdown",
   "metadata": {},
   "source": [
    "----\n",
    "-----\n",
    "There are many LendingClub data sets on Kaggle. Here is the information on this particular data set:\n",
    "\n",
    "<table border=\"1\" class=\"dataframe\">\n",
    "  <thead>\n",
    "    <tr style=\"text-align: right;\">\n",
    "      <th></th>\n",
    "      <th>LoanStatNew</th>\n",
    "      <th>Description</th>\n",
    "    </tr>\n",
    "  </thead>\n",
    "  <tbody>\n",
    "    <tr>\n",
    "      <th>0</th>\n",
    "      <td>loan_amnt</td>\n",
    "      <td>The listed amount of the loan applied for by the borrower. If at some point in time, the credit department reduces the loan amount, then it will be reflected in this value.</td>\n",
    "    </tr>\n",
    "    <tr>\n",
    "      <th>1</th>\n",
    "      <td>term</td>\n",
    "      <td>The number of payments on the loan. Values are in months and can be either 36 or 60.</td>\n",
    "    </tr>\n",
    "    <tr>\n",
    "      <th>2</th>\n",
    "      <td>int_rate</td>\n",
    "      <td>Interest Rate on the loan</td>\n",
    "    </tr>\n",
    "    <tr>\n",
    "      <th>3</th>\n",
    "      <td>installment</td>\n",
    "      <td>The monthly payment owed by the borrower if the loan originates.</td>\n",
    "    </tr>\n",
    "    <tr>\n",
    "      <th>4</th>\n",
    "      <td>grade</td>\n",
    "      <td>LC assigned loan grade</td>\n",
    "    </tr>\n",
    "    <tr>\n",
    "      <th>5</th>\n",
    "      <td>sub_grade</td>\n",
    "      <td>LC assigned loan subgrade</td>\n",
    "    </tr>\n",
    "    <tr>\n",
    "      <th>6</th>\n",
    "      <td>emp_title</td>\n",
    "      <td>The job title supplied by the Borrower when applying for the loan.*</td>\n",
    "    </tr>\n",
    "    <tr>\n",
    "      <th>7</th>\n",
    "      <td>emp_length</td>\n",
    "      <td>Employment length in years. Possible values are between 0 and 10 where 0 means less than one year and 10 means ten or more years.</td>\n",
    "    </tr>\n",
    "    <tr>\n",
    "      <th>8</th>\n",
    "      <td>home_ownership</td>\n",
    "      <td>The home ownership status provided by the borrower during registration or obtained from the credit report. Our values are: RENT, OWN, MORTGAGE, OTHER</td>\n",
    "    </tr>\n",
    "    <tr>\n",
    "      <th>9</th>\n",
    "      <td>annual_inc</td>\n",
    "      <td>The self-reported annual income provided by the borrower during registration.</td>\n",
    "    </tr>\n",
    "    <tr>\n",
    "      <th>10</th>\n",
    "      <td>verification_status</td>\n",
    "      <td>Indicates if income was verified by LC, not verified, or if the income source was verified</td>\n",
    "    </tr>\n",
    "    <tr>\n",
    "      <th>11</th>\n",
    "      <td>issue_d</td>\n",
    "      <td>The month which the loan was funded</td>\n",
    "    </tr>\n",
    "    <tr>\n",
    "      <th>12</th>\n",
    "      <td>loan_status</td>\n",
    "      <td>Current status of the loan</td>\n",
    "    </tr>\n",
    "    <tr>\n",
    "      <th>13</th>\n",
    "      <td>purpose</td>\n",
    "      <td>A category provided by the borrower for the loan request.</td>\n",
    "    </tr>\n",
    "    <tr>\n",
    "      <th>14</th>\n",
    "      <td>title</td>\n",
    "      <td>The loan title provided by the borrower</td>\n",
    "    </tr>\n",
    "    <tr>\n",
    "      <th>15</th>\n",
    "      <td>zip_code</td>\n",
    "      <td>The first 3 numbers of the zip code provided by the borrower in the loan application.</td>\n",
    "    </tr>\n",
    "    <tr>\n",
    "      <th>16</th>\n",
    "      <td>addr_state</td>\n",
    "      <td>The state provided by the borrower in the loan application</td>\n",
    "    </tr>\n",
    "    <tr>\n",
    "      <th>17</th>\n",
    "      <td>dti</td>\n",
    "      <td>A ratio calculated using the borrower’s total monthly debt payments on the total debt obligations, excluding mortgage and the requested LC loan, divided by the borrower’s self-reported monthly income.</td>\n",
    "    </tr>\n",
    "    <tr>\n",
    "      <th>18</th>\n",
    "      <td>earliest_cr_line</td>\n",
    "      <td>The month the borrower's earliest reported credit line was opened</td>\n",
    "    </tr>\n",
    "    <tr>\n",
    "      <th>19</th>\n",
    "      <td>open_acc</td>\n",
    "      <td>The number of open credit lines in the borrower's credit file.</td>\n",
    "    </tr>\n",
    "    <tr>\n",
    "      <th>20</th>\n",
    "      <td>pub_rec</td>\n",
    "      <td>Number of derogatory public records</td>\n",
    "    </tr>\n",
    "    <tr>\n",
    "      <th>21</th>\n",
    "      <td>revol_bal</td>\n",
    "      <td>Total credit revolving balance</td>\n",
    "    </tr>\n",
    "    <tr>\n",
    "      <th>22</th>\n",
    "      <td>revol_util</td>\n",
    "      <td>Revolving line utilization rate, or the amount of credit the borrower is using relative to all available revolving credit.</td>\n",
    "    </tr>\n",
    "    <tr>\n",
    "      <th>23</th>\n",
    "      <td>total_acc</td>\n",
    "      <td>The total number of credit lines currently in the borrower's credit file</td>\n",
    "    </tr>\n",
    "    <tr>\n",
    "      <th>24</th>\n",
    "      <td>initial_list_status</td>\n",
    "      <td>The initial listing status of the loan. Possible values are – W, F</td>\n",
    "    </tr>\n",
    "    <tr>\n",
    "      <th>25</th>\n",
    "      <td>application_type</td>\n",
    "      <td>Indicates whether the loan is an individual application or a joint application with two co-borrowers</td>\n",
    "    </tr>\n",
    "    <tr>\n",
    "      <th>26</th>\n",
    "      <td>mort_acc</td>\n",
    "      <td>Number of mortgage accounts.</td>\n",
    "    </tr>\n",
    "    <tr>\n",
    "      <th>27</th>\n",
    "      <td>pub_rec_bankruptcies</td>\n",
    "      <td>Number of public record bankruptcies</td>\n",
    "    </tr>\n",
    "  </tbody>\n",
    "</table>\n",
    "\n",
    "---\n",
    "----"
   ]
  },
  {
   "cell_type": "markdown",
   "metadata": {},
   "source": [
    "## Starter Code\n",
    "\n",
    "#### Note: We also provide feature information on the data as a .csv file for easy lookup throughout the notebook:"
   ]
  },
  {
   "cell_type": "code",
   "execution_count": 2,
   "metadata": {
    "ExecuteTime": {
     "start_time": "2023-12-05T08:12:41.038308Z",
     "end_time": "2023-12-05T08:12:41.781534Z"
    }
   },
   "outputs": [],
   "source": [
    "import pandas as pd"
   ]
  },
  {
   "cell_type": "code",
   "execution_count": 3,
   "metadata": {
    "ExecuteTime": {
     "start_time": "2023-12-05T08:12:52.139968Z",
     "end_time": "2023-12-05T08:12:52.170756Z"
    }
   },
   "outputs": [],
   "source": [
    "data_info = pd.read_csv('lending_club_info.csv',index_col='LoanStatNew')"
   ]
  },
  {
   "cell_type": "code",
   "execution_count": 4,
   "metadata": {
    "ExecuteTime": {
     "start_time": "2023-12-05T08:12:53.748994Z",
     "end_time": "2023-12-05T08:12:53.760832Z"
    }
   },
   "outputs": [
    {
     "name": "stdout",
     "output_type": "stream",
     "text": [
      "Revolving line utilization rate, or the amount of credit the borrower is using relative to all available revolving credit.\n"
     ]
    }
   ],
   "source": [
    "print(data_info.loc['revol_util']['Description'])"
   ]
  },
  {
   "cell_type": "code",
   "execution_count": 5,
   "metadata": {
    "ExecuteTime": {
     "start_time": "2023-12-05T08:12:55.998237Z",
     "end_time": "2023-12-05T08:12:56.006175Z"
    }
   },
   "outputs": [],
   "source": [
    "def feat_info(col_name):\n",
    "    print(data_info.loc[col_name]['Description'])"
   ]
  },
  {
   "cell_type": "code",
   "execution_count": 6,
   "metadata": {
    "ExecuteTime": {
     "start_time": "2023-12-05T08:12:59.393190Z",
     "end_time": "2023-12-05T08:12:59.400797Z"
    }
   },
   "outputs": [
    {
     "name": "stdout",
     "output_type": "stream",
     "text": [
      "Number of mortgage accounts.\n"
     ]
    }
   ],
   "source": [
    "feat_info('mort_acc')"
   ]
  },
  {
   "cell_type": "markdown",
   "metadata": {},
   "source": [
    "## Loading the data and other imports"
   ]
  },
  {
   "cell_type": "code",
   "execution_count": 7,
   "metadata": {
    "ExecuteTime": {
     "start_time": "2023-12-05T08:13:01.728626Z",
     "end_time": "2023-12-05T08:13:02.925119Z"
    }
   },
   "outputs": [
    {
     "name": "stderr",
     "output_type": "stream",
     "text": [
      "/Users/szymonczternasty/opt/anaconda3/lib/python3.8/site-packages/scipy/__init__.py:138: UserWarning: A NumPy version >=1.16.5 and <1.23.0 is required for this version of SciPy (detected version 1.24.3)\n",
      "  warnings.warn(f\"A NumPy version >={np_minversion} and <{np_maxversion} is required for this version of \"\n"
     ]
    }
   ],
   "source": [
    "import pandas as pd\n",
    "import numpy as np\n",
    "import matplotlib.pyplot as plt\n",
    "import seaborn as sns\n",
    "\n",
    "# might be needed depending on your version of Jupyter\n",
    "%matplotlib inline"
   ]
  },
  {
   "cell_type": "code",
   "execution_count": 8,
   "metadata": {
    "ExecuteTime": {
     "start_time": "2023-12-05T08:13:03.697167Z",
     "end_time": "2023-12-05T08:13:05.837215Z"
    }
   },
   "outputs": [],
   "source": [
    "df = pd.read_csv('lending_club_loan_two.csv')"
   ]
  },
  {
   "cell_type": "code",
   "execution_count": 9,
   "metadata": {
    "ExecuteTime": {
     "start_time": "2023-12-05T08:13:06.469046Z",
     "end_time": "2023-12-05T08:13:06.775707Z"
    }
   },
   "outputs": [
    {
     "name": "stdout",
     "output_type": "stream",
     "text": [
      "<class 'pandas.core.frame.DataFrame'>\n",
      "RangeIndex: 396030 entries, 0 to 396029\n",
      "Data columns (total 27 columns):\n",
      " #   Column                Non-Null Count   Dtype  \n",
      "---  ------                --------------   -----  \n",
      " 0   loan_amnt             396030 non-null  float64\n",
      " 1   term                  396030 non-null  object \n",
      " 2   int_rate              396030 non-null  float64\n",
      " 3   installment           396030 non-null  float64\n",
      " 4   grade                 396030 non-null  object \n",
      " 5   sub_grade             396030 non-null  object \n",
      " 6   emp_title             373103 non-null  object \n",
      " 7   emp_length            377729 non-null  object \n",
      " 8   home_ownership        396030 non-null  object \n",
      " 9   annual_inc            396030 non-null  float64\n",
      " 10  verification_status   396030 non-null  object \n",
      " 11  issue_d               396030 non-null  object \n",
      " 12  loan_status           396030 non-null  object \n",
      " 13  purpose               396030 non-null  object \n",
      " 14  title                 394275 non-null  object \n",
      " 15  dti                   396030 non-null  float64\n",
      " 16  earliest_cr_line      396030 non-null  object \n",
      " 17  open_acc              396030 non-null  float64\n",
      " 18  pub_rec               396030 non-null  float64\n",
      " 19  revol_bal             396030 non-null  float64\n",
      " 20  revol_util            395754 non-null  float64\n",
      " 21  total_acc             396030 non-null  float64\n",
      " 22  initial_list_status   396030 non-null  object \n",
      " 23  application_type      396030 non-null  object \n",
      " 24  mort_acc              358235 non-null  float64\n",
      " 25  pub_rec_bankruptcies  395495 non-null  float64\n",
      " 26  address               396030 non-null  object \n",
      "dtypes: float64(12), object(15)\n",
      "memory usage: 81.6+ MB\n"
     ]
    }
   ],
   "source": [
    "df.info()"
   ]
  },
  {
   "cell_type": "markdown",
   "metadata": {},
   "source": [
    "# Project Tasks\n",
    "\n",
    "**Complete the tasks below! Keep in mind is usually more than one way to complete the task! Enjoy**\n",
    "\n",
    "-----\n",
    "------\n",
    "\n",
    "# Section 1: Exploratory Data Analysis\n",
    "\n",
    "**OVERALL GOAL: Get an understanding for which variables are important, view summary statistics, and visualize the data**\n",
    "\n",
    "\n",
    "----"
   ]
  },
  {
   "cell_type": "markdown",
   "metadata": {},
   "source": [
    "**TASK: Since we will be attempting to predict loan_status, create a countplot as shown below.**"
   ]
  },
  {
   "cell_type": "code",
   "execution_count": 10,
   "metadata": {
    "ExecuteTime": {
     "start_time": "2023-12-05T08:13:12.629604Z",
     "end_time": "2023-12-05T08:13:13.020254Z"
    }
   },
   "outputs": [
    {
     "data": {
      "text/plain": "<AxesSubplot:xlabel='loan_status', ylabel='count'>"
     },
     "execution_count": 10,
     "metadata": {},
     "output_type": "execute_result"
    },
    {
     "data": {
      "text/plain": "<Figure size 432x288 with 1 Axes>",
      "image/png": "[encoded data removed]"
     },
     "metadata": {
      "needs_background": "light"
     },
     "output_type": "display_data"
    }
   ],
   "source": [
    "sns.countplot(data=df, x='loan_status')"
   ]
  },
  {
   "cell_type": "markdown",
   "metadata": {},
   "source": [
    "**TASK: Create a histogram of the loan_amnt column.**"
   ]
  },
  {
   "cell_type": "code",
   "execution_count": 11,
   "metadata": {
    "ExecuteTime": {
     "start_time": "2023-12-05T08:13:14.927705Z",
     "end_time": "2023-12-05T08:13:15.161805Z"
    }
   },
   "outputs": [
    {
     "data": {
      "text/plain": "<AxesSubplot:xlabel='loan_amnt', ylabel='Count'>"
     },
     "execution_count": 11,
     "metadata": {},
     "output_type": "execute_result"
    },
    {
     "data": {
      "text/plain": "<Figure size 864x432 with 1 Axes>",
      "image/png": "[encoded data removed]"
     },
     "metadata": {
      "needs_background": "light"
     },
     "output_type": "display_data"
    }
   ],
   "source": [
    "plt.figure(figsize=(12,6))\n",
    "sns.histplot(data=df, x='loan_amnt', bins = 40)"
   ]
  },
  {
   "cell_type": "markdown",
   "metadata": {},
   "source": [
    "**TASK: Let's explore correlation between the continuous feature variables. Calculate the correlation between all continuous numeric variables using .corr() method.**"
   ]
  },
  {
   "cell_type": "code",
   "execution_count": 12,
   "metadata": {
    "ExecuteTime": {
     "start_time": "2023-12-05T08:13:17.675635Z",
     "end_time": "2023-12-05T08:13:17.887818Z"
    }
   },
   "outputs": [
    {
     "data": {
      "text/plain": "                      loan_amnt  int_rate  installment  annual_inc       dti  \\\nloan_amnt              1.000000  0.168921     0.953929    0.336887  0.016636   \nint_rate               0.168921  1.000000     0.162758   -0.056771  0.079038   \ninstallment            0.953929  0.162758     1.000000    0.330381  0.015786   \nannual_inc             0.336887 -0.056771     0.330381    1.000000 -0.081685   \ndti                    0.016636  0.079038     0.015786   -0.081685  1.000000   \nopen_acc               0.198556  0.011649     0.188973    0.136150  0.136181   \npub_rec               -0.077779  0.060986    -0.067892   -0.013720 -0.017639   \nrevol_bal              0.328320 -0.011280     0.316455    0.299773  0.063571   \nrevol_util             0.099911  0.293659     0.123915    0.027871  0.088375   \ntotal_acc              0.223886 -0.036404     0.202430    0.193023  0.102128   \nmort_acc               0.222315 -0.082583     0.193694    0.236320 -0.025439   \npub_rec_bankruptcies  -0.106539  0.057450    -0.098628   -0.050162 -0.014558   \n\n                      open_acc   pub_rec  revol_bal  revol_util  total_acc  \\\nloan_amnt             0.198556 -0.077779   0.328320    0.099911   0.223886   \nint_rate              0.011649  0.060986  -0.011280    0.293659  -0.036404   \ninstallment           0.188973 -0.067892   0.316455    0.123915   0.202430   \nannual_inc            0.136150 -0.013720   0.299773    0.027871   0.193023   \ndti                   0.136181 -0.017639   0.063571    0.088375   0.102128   \nopen_acc              1.000000 -0.018392   0.221192   -0.131420   0.680728   \npub_rec              -0.018392  1.000000  -0.101664   -0.075910   0.019723   \nrevol_bal             0.221192 -0.101664   1.000000    0.226346   0.191616   \nrevol_util           -0.131420 -0.075910   0.226346    1.000000  -0.104273   \ntotal_acc             0.680728  0.019723   0.191616   -0.104273   1.000000   \nmort_acc              0.109205  0.011552   0.194925    0.007514   0.381072   \npub_rec_bankruptcies -0.027732  0.699408  -0.124532   -0.086751   0.042035   \n\n                      mort_acc  pub_rec_bankruptcies  \nloan_amnt             0.222315             -0.106539  \nint_rate             -0.082583              0.057450  \ninstallment           0.193694             -0.098628  \nannual_inc            0.236320             -0.050162  \ndti                  -0.025439             -0.014558  \nopen_acc              0.109205             -0.027732  \npub_rec               0.011552              0.699408  \nrevol_bal             0.194925             -0.124532  \nrevol_util            0.007514             -0.086751  \ntotal_acc             0.381072              0.042035  \nmort_acc              1.000000              0.027239  \npub_rec_bankruptcies  0.027239              1.000000  ",
      "text/html": "<div>\n<style scoped>\n    .dataframe tbody tr th:only-of-type {\n        vertical-align: middle;\n    }\n\n    .dataframe tbody tr th {\n        vertical-align: top;\n    }\n\n    .dataframe thead th {\n        text-align: right;\n    }\n</style>\n<table border=\"1\" class=\"dataframe\">\n  <thead>\n    <tr style=\"text-align: right;\">\n      <th></th>\n      <th>loan_amnt</th>\n      <th>int_rate</th>\n      <th>installment</th>\n      <th>annual_inc</th>\n      <th>dti</th>\n      <th>open_acc</th>\n      <th>pub_rec</th>\n      <th>revol_bal</th>\n      <th>revol_util</th>\n      <th>total_acc</th>\n      <th>mort_acc</th>\n      <th>pub_rec_bankruptcies</th>\n    </tr>\n  </thead>\n  <tbody>\n    <tr>\n      <th>loan_amnt</th>\n      <td>1.000000</td>\n      <td>0.168921</td>\n      <td>0.953929</td>\n      <td>0.336887</td>\n      <td>0.016636</td>\n      <td>0.198556</td>\n      <td>-0.077779</td>\n      <td>0.328320</td>\n      <td>0.099911</td>\n      <td>0.223886</td>\n      <td>0.222315</td>\n      <td>-0.106539</td>\n    </tr>\n    <tr>\n      <th>int_rate</th>\n      <td>0.168921</td>\n      <td>1.000000</td>\n      <td>0.162758</td>\n      <td>-0.056771</td>\n      <td>0.079038</td>\n      <td>0.011649</td>\n      <td>0.060986</td>\n      <td>-0.011280</td>\n      <td>0.293659</td>\n      <td>-0.036404</td>\n      <td>-0.082583</td>\n      <td>0.057450</td>\n    </tr>\n    <tr>\n      <th>installment</th>\n      <td>0.953929</td>\n      <td>0.162758</td>\n      <td>1.000000</td>\n      <td>0.330381</td>\n      <td>0.015786</td>\n      <td>0.188973</td>\n      <td>-0.067892</td>\n      <td>0.316455</td>\n      <td>0.123915</td>\n      <td>0.202430</td>\n      <td>0.193694</td>\n      <td>-0.098628</td>\n    </tr>\n    <tr>\n      <th>annual_inc</th>\n      <td>0.336887</td>\n      <td>-0.056771</td>\n      <td>0.330381</td>\n      <td>1.000000</td>\n      <td>-0.081685</td>\n      <td>0.136150</td>\n      <td>-0.013720</td>\n      <td>0.299773</td>\n      <td>0.027871</td>\n      <td>0.193023</td>\n      <td>0.236320</td>\n      <td>-0.050162</td>\n    </tr>\n    <tr>\n      <th>dti</th>\n      <td>0.016636</td>\n      <td>0.079038</td>\n      <td>0.015786</td>\n      <td>-0.081685</td>\n      <td>1.000000</td>\n      <td>0.136181</td>\n      <td>-0.017639</td>\n      <td>0.063571</td>\n      <td>0.088375</td>\n      <td>0.102128</td>\n      <td>-0.025439</td>\n      <td>-0.014558</td>\n    </tr>\n    <tr>\n      <th>open_acc</th>\n      <td>0.198556</td>\n      <td>0.011649</td>\n      <td>0.188973</td>\n      <td>0.136150</td>\n      <td>0.136181</td>\n      <td>1.000000</td>\n      <td>-0.018392</td>\n      <td>0.221192</td>\n      <td>-0.131420</td>\n      <td>0.680728</td>\n      <td>0.109205</td>\n      <td>-0.027732</td>\n    </tr>\n    <tr>\n      <th>pub_rec</th>\n      <td>-0.077779</td>\n      <td>0.060986</td>\n      <td>-0.067892</td>\n      <td>-0.013720</td>\n      <td>-0.017639</td>\n      <td>-0.018392</td>\n      <td>1.000000</td>\n      <td>-0.101664</td>\n      <td>-0.075910</td>\n      <td>0.019723</td>\n      <td>0.011552</td>\n      <td>0.699408</td>\n    </tr>\n    <tr>\n      <th>revol_bal</th>\n      <td>0.328320</td>\n      <td>-0.011280</td>\n      <td>0.316455</td>\n      <td>0.299773</td>\n      <td>0.063571</td>\n      <td>0.221192</td>\n      <td>-0.101664</td>\n      <td>1.000000</td>\n      <td>0.226346</td>\n      <td>0.191616</td>\n      <td>0.194925</td>\n      <td>-0.124532</td>\n    </tr>\n    <tr>\n      <th>revol_util</th>\n      <td>0.099911</td>\n      <td>0.293659</td>\n      <td>0.123915</td>\n      <td>0.027871</td>\n      <td>0.088375</td>\n      <td>-0.131420</td>\n      <td>-0.075910</td>\n      <td>0.226346</td>\n      <td>1.000000</td>\n      <td>-0.104273</td>\n      <td>0.007514</td>\n      <td>-0.086751</td>\n    </tr>\n    <tr>\n      <th>total_acc</th>\n      <td>0.223886</td>\n      <td>-0.036404</td>\n      <td>0.202430</td>\n      <td>0.193023</td>\n      <td>0.102128</td>\n      <td>0.680728</td>\n      <td>0.019723</td>\n      <td>0.191616</td>\n      <td>-0.104273</td>\n      <td>1.000000</td>\n      <td>0.381072</td>\n      <td>0.042035</td>\n    </tr>\n    <tr>\n      <th>mort_acc</th>\n      <td>0.222315</td>\n      <td>-0.082583</td>\n      <td>0.193694</td>\n      <td>0.236320</td>\n      <td>-0.025439</td>\n      <td>0.109205</td>\n      <td>0.011552</td>\n      <td>0.194925</td>\n      <td>0.007514</td>\n      <td>0.381072</td>\n      <td>1.000000</td>\n      <td>0.027239</td>\n    </tr>\n    <tr>\n      <th>pub_rec_bankruptcies</th>\n      <td>-0.106539</td>\n      <td>0.057450</td>\n      <td>-0.098628</td>\n      <td>-0.050162</td>\n      <td>-0.014558</td>\n      <td>-0.027732</td>\n      <td>0.699408</td>\n      <td>-0.124532</td>\n      <td>-0.086751</td>\n      <td>0.042035</td>\n      <td>0.027239</td>\n      <td>1.000000</td>\n    </tr>\n  </tbody>\n</table>\n</div>"
     },
     "execution_count": 12,
     "metadata": {},
     "output_type": "execute_result"
    }
   ],
   "source": [
    "df.corr()"
   ]
  },
  {
   "cell_type": "markdown",
   "metadata": {},
   "source": [
    "**TASK: Visualize this using a heatmap. Depending on your version of matplotlib, you may need to manually adjust the heatmap.**\n",
    "\n",
    "* [Heatmap info](https://seaborn.pydata.org/generated/seaborn.heatmap.html#seaborn.heatmap)\n",
    "* [Help with resizing](https://stackoverflow.com/questions/56942670/matplotlib-seaborn-first-and-last-row-cut-in-half-of-heatmap-plot)"
   ]
  },
  {
   "cell_type": "code",
   "execution_count": 13,
   "metadata": {
    "ExecuteTime": {
     "start_time": "2023-12-05T08:13:21.329625Z",
     "end_time": "2023-12-05T08:13:22.192275Z"
    }
   },
   "outputs": [
    {
     "data": {
      "text/plain": "<AxesSubplot:>"
     },
     "execution_count": 13,
     "metadata": {},
     "output_type": "execute_result"
    },
    {
     "data": {
      "text/plain": "<Figure size 864x432 with 2 Axes>",
      "image/png": "[encoded data removed]"
     },
     "metadata": {
      "needs_background": "light"
     },
     "output_type": "display_data"
    }
   ],
   "source": [
    "plt.figure(figsize=(12,6))\n",
    "sns.heatmap(df.corr(), cmap='viridis', annot=True)"
   ]
  },
  {
   "cell_type": "markdown",
   "metadata": {},
   "source": [
    "**TASK: You should have noticed almost perfect correlation with the \"installment\" feature. Explore this feature further. Print out their descriptions and perform a scatterplot between them. Does this relationship make sense to you? Do you think there is duplicate information here?**"
   ]
  },
  {
   "cell_type": "code",
   "execution_count": 14,
   "metadata": {
    "ExecuteTime": {
     "start_time": "2023-12-05T08:13:24.417719Z",
     "end_time": "2023-12-05T08:13:24.428150Z"
    }
   },
   "outputs": [
    {
     "name": "stdout",
     "output_type": "stream",
     "text": [
      "The monthly payment owed by the borrower if the loan originates.\n"
     ]
    }
   ],
   "source": [
    "feat_info('installment')"
   ]
  },
  {
   "cell_type": "code",
   "execution_count": 15,
   "metadata": {
    "ExecuteTime": {
     "start_time": "2023-12-05T08:13:25.815361Z",
     "end_time": "2023-12-05T08:13:25.856133Z"
    }
   },
   "outputs": [
    {
     "name": "stdout",
     "output_type": "stream",
     "text": [
      "The listed amount of the loan applied for by the borrower. If at some point in time, the credit department reduces the loan amount, then it will be reflected in this value.\n"
     ]
    }
   ],
   "source": [
    "feat_info('loan_amnt')"
   ]
  },
  {
   "cell_type": "code",
   "execution_count": 16,
   "metadata": {
    "ExecuteTime": {
     "start_time": "2023-12-05T08:13:27.014873Z",
     "end_time": "2023-12-05T08:13:27.819187Z"
    }
   },
   "outputs": [
    {
     "data": {
      "text/plain": "<AxesSubplot:xlabel='installment', ylabel='loan_amnt'>"
     },
     "execution_count": 16,
     "metadata": {},
     "output_type": "execute_result"
    },
    {
     "data": {
      "text/plain": "<Figure size 864x432 with 1 Axes>",
      "image/png": "[encoded data removed]"
     },
     "metadata": {
      "needs_background": "light"
     },
     "output_type": "display_data"
    }
   ],
   "source": [
    "plt.figure(figsize=(12,6))\n",
    "sns.scatterplot(x=df['installment'], y=df['loan_amnt'])"
   ]
  },
  {
   "cell_type": "markdown",
   "metadata": {},
   "source": [
    "**TASK: Create a boxplot showing the relationship between the loan_status and the Loan Amount.**"
   ]
  },
  {
   "cell_type": "code",
   "execution_count": 17,
   "metadata": {
    "ExecuteTime": {
     "start_time": "2023-12-05T08:13:30.442743Z",
     "end_time": "2023-12-05T08:13:30.769299Z"
    }
   },
   "outputs": [
    {
     "data": {
      "text/plain": "<AxesSubplot:xlabel='loan_status', ylabel='loan_amnt'>"
     },
     "execution_count": 17,
     "metadata": {},
     "output_type": "execute_result"
    },
    {
     "data": {
      "text/plain": "<Figure size 864x432 with 1 Axes>",
      "image/png": "[encoded data removed]"
     },
     "metadata": {
      "needs_background": "light"
     },
     "output_type": "display_data"
    }
   ],
   "source": [
    "plt.figure(figsize=(12,6))\n",
    "sns.boxplot(x=df['loan_status'], y=df['loan_amnt'])"
   ]
  },
  {
   "cell_type": "markdown",
   "metadata": {},
   "source": [
    "**TASK: Calculate the summary statistics for the loan amount, grouped by the loan_status.**"
   ]
  },
  {
   "cell_type": "code",
   "execution_count": 18,
   "metadata": {
    "ExecuteTime": {
     "start_time": "2023-12-05T08:13:33.827094Z",
     "end_time": "2023-12-05T08:13:33.919113Z"
    }
   },
   "outputs": [
    {
     "data": {
      "text/plain": "                count          mean          std     min     25%      50%  \\\nloan_status                                                                 \nCharged Off   77673.0  15126.300967  8505.090557  1000.0  8525.0  14000.0   \nFully Paid   318357.0  13866.878771  8302.319699   500.0  7500.0  12000.0   \n\n                 75%      max  \nloan_status                    \nCharged Off  20000.0  40000.0  \nFully Paid   19225.0  40000.0  ",
      "text/html": "<div>\n<style scoped>\n    .dataframe tbody tr th:only-of-type {\n        vertical-align: middle;\n    }\n\n    .dataframe tbody tr th {\n        vertical-align: top;\n    }\n\n    .dataframe thead th {\n        text-align: right;\n    }\n</style>\n<table border=\"1\" class=\"dataframe\">\n  <thead>\n    <tr style=\"text-align: right;\">\n      <th></th>\n      <th>count</th>\n      <th>mean</th>\n      <th>std</th>\n      <th>min</th>\n      <th>25%</th>\n      <th>50%</th>\n      <th>75%</th>\n      <th>max</th>\n    </tr>\n    <tr>\n      <th>loan_status</th>\n      <th></th>\n      <th></th>\n      <th></th>\n      <th></th>\n      <th></th>\n      <th></th>\n      <th></th>\n      <th></th>\n    </tr>\n  </thead>\n  <tbody>\n    <tr>\n      <th>Charged Off</th>\n      <td>77673.0</td>\n      <td>15126.300967</td>\n      <td>8505.090557</td>\n      <td>1000.0</td>\n      <td>8525.0</td>\n      <td>14000.0</td>\n      <td>20000.0</td>\n      <td>40000.0</td>\n    </tr>\n    <tr>\n      <th>Fully Paid</th>\n      <td>318357.0</td>\n      <td>13866.878771</td>\n      <td>8302.319699</td>\n      <td>500.0</td>\n      <td>7500.0</td>\n      <td>12000.0</td>\n      <td>19225.0</td>\n      <td>40000.0</td>\n    </tr>\n  </tbody>\n</table>\n</div>"
     },
     "execution_count": 18,
     "metadata": {},
     "output_type": "execute_result"
    }
   ],
   "source": [
    "df.groupby('loan_status')['loan_amnt'].describe()"
   ]
  },
  {
   "cell_type": "markdown",
   "metadata": {},
   "source": [
    "**TASK: Let's explore the Grade and SubGrade columns that LendingClub attributes to the loans. What are the unique possible grades and subgrades?**"
   ]
  },
  {
   "cell_type": "code",
   "execution_count": 19,
   "metadata": {
    "ExecuteTime": {
     "start_time": "2023-12-05T08:13:38.356602Z",
     "end_time": "2023-12-05T08:13:38.440830Z"
    }
   },
   "outputs": [
    {
     "data": {
      "text/plain": "array(['B', 'A', 'C', 'E', 'D', 'F', 'G'], dtype=object)"
     },
     "execution_count": 19,
     "metadata": {},
     "output_type": "execute_result"
    }
   ],
   "source": [
    "df['grade'].unique()"
   ]
  },
  {
   "cell_type": "code",
   "execution_count": 20,
   "metadata": {
    "ExecuteTime": {
     "start_time": "2023-12-05T08:13:39.886929Z",
     "end_time": "2023-12-05T08:13:39.951609Z"
    }
   },
   "outputs": [
    {
     "data": {
      "text/plain": "array(['B4', 'B5', 'B3', 'A2', 'C5', 'C3', 'A1', 'B2', 'C1', 'A5', 'E4',\n       'A4', 'A3', 'D1', 'C2', 'B1', 'D3', 'D5', 'D2', 'E1', 'E2', 'E5',\n       'F4', 'E3', 'D4', 'G1', 'F5', 'G2', 'C4', 'F1', 'F3', 'G5', 'G4',\n       'F2', 'G3'], dtype=object)"
     },
     "execution_count": 20,
     "metadata": {},
     "output_type": "execute_result"
    }
   ],
   "source": [
    "df['sub_grade'].unique()"
   ]
  },
  {
   "cell_type": "markdown",
   "metadata": {},
   "source": [
    "**TASK: Create a countplot per grade. Set the hue to the loan_status label.**"
   ]
  },
  {
   "cell_type": "code",
   "execution_count": 21,
   "metadata": {
    "ExecuteTime": {
     "start_time": "2023-12-05T08:13:41.962447Z",
     "end_time": "2023-12-05T08:13:42.931236Z"
    }
   },
   "outputs": [
    {
     "data": {
      "text/plain": "<AxesSubplot:xlabel='grade', ylabel='count'>"
     },
     "execution_count": 21,
     "metadata": {},
     "output_type": "execute_result"
    },
    {
     "data": {
      "text/plain": "<Figure size 432x288 with 1 Axes>",
      "image/png": "[encoded data removed]"
     },
     "metadata": {
      "needs_background": "light"
     },
     "output_type": "display_data"
    }
   ],
   "source": [
    "sns.countplot(data=df, x='grade', hue='loan_status')"
   ]
  },
  {
   "cell_type": "markdown",
   "metadata": {},
   "source": [
    "**TASK: Display a count plot per subgrade. You may need to resize for this plot and [reorder](https://seaborn.pydata.org/generated/seaborn.countplot.html#seaborn.countplot) the x axis. Feel free to edit the color palette. Explore both all loans made per subgrade as well being separated based on the loan_status. After creating this plot, go ahead and create a similar plot, but set hue=\"loan_status\"**"
   ]
  },
  {
   "cell_type": "code",
   "execution_count": 22,
   "metadata": {
    "ExecuteTime": {
     "start_time": "2023-12-05T08:13:45.085237Z",
     "end_time": "2023-12-05T08:13:45.782093Z"
    }
   },
   "outputs": [
    {
     "data": {
      "text/plain": "<AxesSubplot:xlabel='sub_grade', ylabel='count'>"
     },
     "execution_count": 22,
     "metadata": {},
     "output_type": "execute_result"
    },
    {
     "data": {
      "text/plain": "<Figure size 864x432 with 1 Axes>",
      "image/png": "[encoded data removed]"
     },
     "metadata": {
      "needs_background": "light"
     },
     "output_type": "display_data"
    }
   ],
   "source": [
    "plt.figure(figsize=(12,6))\n",
    "subgrade = sorted(df['sub_grade'].unique())\n",
    "sns.countplot(data=df, x='sub_grade', order=subgrade, palette='coolwarm')"
   ]
  },
  {
   "cell_type": "code",
   "execution_count": 23,
   "metadata": {
    "ExecuteTime": {
     "start_time": "2023-12-05T08:13:48.492150Z",
     "end_time": "2023-12-05T08:13:49.444992Z"
    }
   },
   "outputs": [
    {
     "data": {
      "text/plain": "<AxesSubplot:xlabel='sub_grade', ylabel='count'>"
     },
     "execution_count": 23,
     "metadata": {},
     "output_type": "execute_result"
    },
    {
     "data": {
      "text/plain": "<Figure size 864x432 with 1 Axes>",
      "image/png": "[encoded data removed]"
     },
     "metadata": {
      "needs_background": "light"
     },
     "output_type": "display_data"
    }
   ],
   "source": [
    "plt.figure(figsize=(12,6))\n",
    "subgrade = sorted(df['sub_grade'].unique())\n",
    "sns.countplot(data=df, x='sub_grade', order=subgrade, palette='coolwarm', hue='loan_status')"
   ]
  },
  {
   "cell_type": "markdown",
   "metadata": {},
   "source": [
    "**TASK: It looks like F and G subgrades don't get paid back that often. Isloate those and recreate the countplot just for those subgrades.**"
   ]
  },
  {
   "cell_type": "code",
   "execution_count": 24,
   "metadata": {
    "ExecuteTime": {
     "start_time": "2023-12-05T08:13:52.539877Z",
     "end_time": "2023-12-05T08:13:52.912494Z"
    }
   },
   "outputs": [
    {
     "data": {
      "text/plain": "<AxesSubplot:xlabel='sub_grade', ylabel='count'>"
     },
     "execution_count": 24,
     "metadata": {},
     "output_type": "execute_result"
    },
    {
     "data": {
      "text/plain": "<Figure size 864x432 with 1 Axes>",
      "image/png": "[encoded data removed]"
     },
     "metadata": {
      "needs_background": "light"
     },
     "output_type": "display_data"
    }
   ],
   "source": [
    "sub_df = df[(df['grade'] == 'F') | (df['grade'] == 'G')]\n",
    "plt.figure(figsize=(12,6))\n",
    "subgrade = sorted(sub_df['sub_grade'].unique())\n",
    "sns.countplot(data=sub_df, x='sub_grade', order=subgrade, palette='coolwarm', hue='loan_status')"
   ]
  },
  {
   "cell_type": "markdown",
   "metadata": {},
   "source": [
    "**TASK: Create a new column called 'loan_repaid' which will contain a 1 if the loan status was \"Fully Paid\" and a 0 if it was \"Charged Off\".**"
   ]
  },
  {
   "cell_type": "code",
   "execution_count": 25,
   "metadata": {
    "ExecuteTime": {
     "start_time": "2023-12-05T08:13:55.432072Z",
     "end_time": "2023-12-05T08:13:55.449604Z"
    }
   },
   "outputs": [],
   "source": [
    "df['loan_repaid'] = df['loan_status'].map({'Fully Paid':1, 'Charged Off':0})"
   ]
  },
  {
   "cell_type": "code",
   "execution_count": 26,
   "metadata": {
    "ExecuteTime": {
     "start_time": "2023-12-05T08:13:58.328400Z",
     "end_time": "2023-12-05T08:13:58.378313Z"
    }
   },
   "outputs": [
    {
     "data": {
      "text/plain": "        loan_repaid  loan_status\n0                 1   Fully Paid\n1                 1   Fully Paid\n2                 1   Fully Paid\n3                 1   Fully Paid\n4                 0  Charged Off\n...             ...          ...\n396025            1   Fully Paid\n396026            1   Fully Paid\n396027            1   Fully Paid\n396028            1   Fully Paid\n396029            1   Fully Paid\n\n[396030 rows x 2 columns]",
      "text/html": "<div>\n<style scoped>\n    .dataframe tbody tr th:only-of-type {\n        vertical-align: middle;\n    }\n\n    .dataframe tbody tr th {\n        vertical-align: top;\n    }\n\n    .dataframe thead th {\n        text-align: right;\n    }\n</style>\n<table border=\"1\" class=\"dataframe\">\n  <thead>\n    <tr style=\"text-align: right;\">\n      <th></th>\n      <th>loan_repaid</th>\n      <th>loan_status</th>\n    </tr>\n  </thead>\n  <tbody>\n    <tr>\n      <th>0</th>\n      <td>1</td>\n      <td>Fully Paid</td>\n    </tr>\n    <tr>\n      <th>1</th>\n      <td>1</td>\n      <td>Fully Paid</td>\n    </tr>\n    <tr>\n      <th>2</th>\n      <td>1</td>\n      <td>Fully Paid</td>\n    </tr>\n    <tr>\n      <th>3</th>\n      <td>1</td>\n      <td>Fully Paid</td>\n    </tr>\n    <tr>\n      <th>4</th>\n      <td>0</td>\n      <td>Charged Off</td>\n    </tr>\n    <tr>\n      <th>...</th>\n      <td>...</td>\n      <td>...</td>\n    </tr>\n    <tr>\n      <th>396025</th>\n      <td>1</td>\n      <td>Fully Paid</td>\n    </tr>\n    <tr>\n      <th>396026</th>\n      <td>1</td>\n      <td>Fully Paid</td>\n    </tr>\n    <tr>\n      <th>396027</th>\n      <td>1</td>\n      <td>Fully Paid</td>\n    </tr>\n    <tr>\n      <th>396028</th>\n      <td>1</td>\n      <td>Fully Paid</td>\n    </tr>\n    <tr>\n      <th>396029</th>\n      <td>1</td>\n      <td>Fully Paid</td>\n    </tr>\n  </tbody>\n</table>\n<p>396030 rows × 2 columns</p>\n</div>"
     },
     "execution_count": 26,
     "metadata": {},
     "output_type": "execute_result"
    }
   ],
   "source": [
    "df[['loan_repaid', 'loan_status']]"
   ]
  },
  {
   "cell_type": "markdown",
   "metadata": {},
   "source": [
    "**CHALLENGE TASK: (Note this is hard, but can be done in one line!) Create a bar plot showing the correlation of the numeric features to the new loan_repaid column. [Helpful Link](https://pandas.pydata.org/pandas-docs/stable/reference/api/pandas.DataFrame.plot.bar.html)**"
   ]
  },
  {
   "cell_type": "code",
   "execution_count": 27,
   "metadata": {
    "ExecuteTime": {
     "start_time": "2023-12-05T08:14:02.647963Z",
     "end_time": "2023-12-05T08:14:03.046254Z"
    }
   },
   "outputs": [
    {
     "data": {
      "text/plain": "<AxesSubplot:>"
     },
     "execution_count": 27,
     "metadata": {},
     "output_type": "execute_result"
    },
    {
     "data": {
      "text/plain": "<Figure size 432x288 with 1 Axes>",
      "image/png": "[encoded data removed]"
     },
     "metadata": {
      "needs_background": "light"
     },
     "output_type": "display_data"
    }
   ],
   "source": [
    "df.corr()['loan_repaid'].sort_values().drop('loan_repaid').plot(kind='bar')"
   ]
  },
  {
   "cell_type": "markdown",
   "metadata": {},
   "source": [
    "---\n",
    "---\n",
    "# Section 2: Data PreProcessing\n",
    "\n",
    "**Section Goals: Remove or fill any missing data. Remove unnecessary or repetitive features. Convert categorical string features to dummy variables.**\n",
    "\n"
   ]
  },
  {
   "cell_type": "code",
   "execution_count": 28,
   "metadata": {
    "ExecuteTime": {
     "start_time": "2023-12-05T08:14:06.198159Z",
     "end_time": "2023-12-05T08:14:06.245576Z"
    }
   },
   "outputs": [
    {
     "data": {
      "text/plain": "   loan_amnt        term  int_rate  installment grade sub_grade  \\\n0    10000.0   36 months     11.44       329.48     B        B4   \n1     8000.0   36 months     11.99       265.68     B        B5   \n2    15600.0   36 months     10.49       506.97     B        B3   \n3     7200.0   36 months      6.49       220.65     A        A2   \n4    24375.0   60 months     17.27       609.33     C        C5   \n\n                 emp_title emp_length home_ownership  annual_inc  ... pub_rec  \\\n0                Marketing  10+ years           RENT    117000.0  ...     0.0   \n1          Credit analyst     4 years       MORTGAGE     65000.0  ...     0.0   \n2             Statistician   < 1 year           RENT     43057.0  ...     0.0   \n3          Client Advocate    6 years           RENT     54000.0  ...     0.0   \n4  Destiny Management Inc.    9 years       MORTGAGE     55000.0  ...     0.0   \n\n  revol_bal revol_util total_acc initial_list_status  application_type  \\\n0   36369.0       41.8      25.0                   w        INDIVIDUAL   \n1   20131.0       53.3      27.0                   f        INDIVIDUAL   \n2   11987.0       92.2      26.0                   f        INDIVIDUAL   \n3    5472.0       21.5      13.0                   f        INDIVIDUAL   \n4   24584.0       69.8      43.0                   f        INDIVIDUAL   \n\n  mort_acc  pub_rec_bankruptcies  \\\n0      0.0                   0.0   \n1      3.0                   0.0   \n2      0.0                   0.0   \n3      0.0                   0.0   \n4      1.0                   0.0   \n\n                                           address  loan_repaid  \n0     0174 Michelle Gateway\\nMendozaberg, OK 22690            1  \n1  1076 Carney Fort Apt. 347\\nLoganmouth, SD 05113            1  \n2  87025 Mark Dale Apt. 269\\nNew Sabrina, WV 05113            1  \n3            823 Reid Ford\\nDelacruzside, MA 00813            1  \n4             679 Luna Roads\\nGreggshire, VA 11650            0  \n\n[5 rows x 28 columns]",
      "text/html": "<div>\n<style scoped>\n    .dataframe tbody tr th:only-of-type {\n        vertical-align: middle;\n    }\n\n    .dataframe tbody tr th {\n        vertical-align: top;\n    }\n\n    .dataframe thead th {\n        text-align: right;\n    }\n</style>\n<table border=\"1\" class=\"dataframe\">\n  <thead>\n    <tr style=\"text-align: right;\">\n      <th></th>\n      <th>loan_amnt</th>\n      <th>term</th>\n      <th>int_rate</th>\n      <th>installment</th>\n      <th>grade</th>\n      <th>sub_grade</th>\n      <th>emp_title</th>\n      <th>emp_length</th>\n      <th>home_ownership</th>\n      <th>annual_inc</th>\n      <th>...</th>\n      <th>pub_rec</th>\n      <th>revol_bal</th>\n      <th>revol_util</th>\n      <th>total_acc</th>\n      <th>initial_list_status</th>\n      <th>application_type</th>\n      <th>mort_acc</th>\n      <th>pub_rec_bankruptcies</th>\n      <th>address</th>\n      <th>loan_repaid</th>\n    </tr>\n  </thead>\n  <tbody>\n    <tr>\n      <th>0</th>\n      <td>10000.0</td>\n      <td>36 months</td>\n      <td>11.44</td>\n      <td>329.48</td>\n      <td>B</td>\n      <td>B4</td>\n      <td>Marketing</td>\n      <td>10+ years</td>\n      <td>RENT</td>\n      <td>117000.0</td>\n      <td>...</td>\n      <td>0.0</td>\n      <td>36369.0</td>\n      <td>41.8</td>\n      <td>25.0</td>\n      <td>w</td>\n      <td>INDIVIDUAL</td>\n      <td>0.0</td>\n      <td>0.0</td>\n      <td>0174 Michelle Gateway\\nMendozaberg, OK 22690</td>\n      <td>1</td>\n    </tr>\n    <tr>\n      <th>1</th>\n      <td>8000.0</td>\n      <td>36 months</td>\n      <td>11.99</td>\n      <td>265.68</td>\n      <td>B</td>\n      <td>B5</td>\n      <td>Credit analyst</td>\n      <td>4 years</td>\n      <td>MORTGAGE</td>\n      <td>65000.0</td>\n      <td>...</td>\n      <td>0.0</td>\n      <td>20131.0</td>\n      <td>53.3</td>\n      <td>27.0</td>\n      <td>f</td>\n      <td>INDIVIDUAL</td>\n      <td>3.0</td>\n      <td>0.0</td>\n      <td>1076 Carney Fort Apt. 347\\nLoganmouth, SD 05113</td>\n      <td>1</td>\n    </tr>\n    <tr>\n      <th>2</th>\n      <td>15600.0</td>\n      <td>36 months</td>\n      <td>10.49</td>\n      <td>506.97</td>\n      <td>B</td>\n      <td>B3</td>\n      <td>Statistician</td>\n      <td>&lt; 1 year</td>\n      <td>RENT</td>\n      <td>43057.0</td>\n      <td>...</td>\n      <td>0.0</td>\n      <td>11987.0</td>\n      <td>92.2</td>\n      <td>26.0</td>\n      <td>f</td>\n      <td>INDIVIDUAL</td>\n      <td>0.0</td>\n      <td>0.0</td>\n      <td>87025 Mark Dale Apt. 269\\nNew Sabrina, WV 05113</td>\n      <td>1</td>\n    </tr>\n    <tr>\n      <th>3</th>\n      <td>7200.0</td>\n      <td>36 months</td>\n      <td>6.49</td>\n      <td>220.65</td>\n      <td>A</td>\n      <td>A2</td>\n      <td>Client Advocate</td>\n      <td>6 years</td>\n      <td>RENT</td>\n      <td>54000.0</td>\n      <td>...</td>\n      <td>0.0</td>\n      <td>5472.0</td>\n      <td>21.5</td>\n      <td>13.0</td>\n      <td>f</td>\n      <td>INDIVIDUAL</td>\n      <td>0.0</td>\n      <td>0.0</td>\n      <td>823 Reid Ford\\nDelacruzside, MA 00813</td>\n      <td>1</td>\n    </tr>\n    <tr>\n      <th>4</th>\n      <td>24375.0</td>\n      <td>60 months</td>\n      <td>17.27</td>\n      <td>609.33</td>\n      <td>C</td>\n      <td>C5</td>\n      <td>Destiny Management Inc.</td>\n      <td>9 years</td>\n      <td>MORTGAGE</td>\n      <td>55000.0</td>\n      <td>...</td>\n      <td>0.0</td>\n      <td>24584.0</td>\n      <td>69.8</td>\n      <td>43.0</td>\n      <td>f</td>\n      <td>INDIVIDUAL</td>\n      <td>1.0</td>\n      <td>0.0</td>\n      <td>679 Luna Roads\\nGreggshire, VA 11650</td>\n      <td>0</td>\n    </tr>\n  </tbody>\n</table>\n<p>5 rows × 28 columns</p>\n</div>"
     },
     "execution_count": 28,
     "metadata": {},
     "output_type": "execute_result"
    }
   ],
   "source": [
    "df.head()"
   ]
  },
  {
   "cell_type": "markdown",
   "metadata": {},
   "source": [
    "# Missing Data\n",
    "\n",
    "**Let's explore this missing data columns. We use a variety of factors to decide whether or not they would be useful, to see if we should keep, discard, or fill in the missing data.**"
   ]
  },
  {
   "cell_type": "markdown",
   "metadata": {},
   "source": [
    "**TASK: What is the length of the dataframe?**"
   ]
  },
  {
   "cell_type": "code",
   "execution_count": 29,
   "metadata": {
    "ExecuteTime": {
     "start_time": "2023-12-05T08:14:10.738396Z",
     "end_time": "2023-12-05T08:14:10.758778Z"
    }
   },
   "outputs": [
    {
     "data": {
      "text/plain": "396030"
     },
     "execution_count": 29,
     "metadata": {},
     "output_type": "execute_result"
    }
   ],
   "source": [
    "len(df)"
   ]
  },
  {
   "cell_type": "markdown",
   "metadata": {},
   "source": [
    "**TASK: Create a Series that displays the total count of missing values per column.**"
   ]
  },
  {
   "cell_type": "code",
   "execution_count": 30,
   "metadata": {
    "ExecuteTime": {
     "start_time": "2023-12-05T08:14:13.877459Z",
     "end_time": "2023-12-05T08:14:14.241010Z"
    }
   },
   "outputs": [
    {
     "data": {
      "text/plain": "loan_amnt                   0\nterm                        0\nint_rate                    0\ninstallment                 0\ngrade                       0\nsub_grade                   0\nemp_title               22927\nemp_length              18301\nhome_ownership              0\nannual_inc                  0\nverification_status         0\nissue_d                     0\nloan_status                 0\npurpose                     0\ntitle                    1755\ndti                         0\nearliest_cr_line            0\nopen_acc                    0\npub_rec                     0\nrevol_bal                   0\nrevol_util                276\ntotal_acc                   0\ninitial_list_status         0\napplication_type            0\nmort_acc                37795\npub_rec_bankruptcies      535\naddress                     0\nloan_repaid                 0\ndtype: int64"
     },
     "execution_count": 30,
     "metadata": {},
     "output_type": "execute_result"
    }
   ],
   "source": [
    "df.isnull().sum()"
   ]
  },
  {
   "cell_type": "markdown",
   "metadata": {},
   "source": [
    "**TASK: Convert this Series to be in term of percentage of the total DataFrame**"
   ]
  },
  {
   "cell_type": "code",
   "execution_count": 32,
   "metadata": {
    "ExecuteTime": {
     "start_time": "2023-12-05T08:15:48.268110Z",
     "end_time": "2023-12-05T08:15:48.647478Z"
    }
   },
   "outputs": [
    {
     "data": {
      "text/plain": "loan_amnt               0.000000\nterm                    0.000000\nint_rate                0.000000\ninstallment             0.000000\ngrade                   0.000000\nsub_grade               0.000000\nemp_title               5.789208\nemp_length              4.621115\nhome_ownership          0.000000\nannual_inc              0.000000\nverification_status     0.000000\nissue_d                 0.000000\nloan_status             0.000000\npurpose                 0.000000\ntitle                   0.443148\ndti                     0.000000\nearliest_cr_line        0.000000\nopen_acc                0.000000\npub_rec                 0.000000\nrevol_bal               0.000000\nrevol_util              0.069692\ntotal_acc               0.000000\ninitial_list_status     0.000000\napplication_type        0.000000\nmort_acc                9.543469\npub_rec_bankruptcies    0.135091\naddress                 0.000000\nloan_repaid             0.000000\ndtype: float64"
     },
     "execution_count": 32,
     "metadata": {},
     "output_type": "execute_result"
    }
   ],
   "source": [
    "100 * df.isnull().sum() / len(df)"
   ]
  },
  {
   "cell_type": "markdown",
   "metadata": {},
   "source": [
    "**TASK: Let's examine emp_title and emp_length to see whether it will be okay to drop them. Print out their feature information using the feat_info() function from the top of this notebook.**"
   ]
  },
  {
   "cell_type": "code",
   "execution_count": 34,
   "metadata": {
    "ExecuteTime": {
     "start_time": "2023-12-05T08:16:41.399368Z",
     "end_time": "2023-12-05T08:16:41.415689Z"
    }
   },
   "outputs": [
    {
     "name": "stdout",
     "output_type": "stream",
     "text": [
      "The job title supplied by the Borrower when applying for the loan.*\n",
      "Employment length in years. Possible values are between 0 and 10 where 0 means less than one year and 10 means ten or more years. \n"
     ]
    }
   ],
   "source": [
    "feat_info('emp_title')\n",
    "feat_info('emp_length')"
   ]
  },
  {
   "cell_type": "markdown",
   "metadata": {},
   "source": [
    "**TASK: How many unique employment job titles are there?**"
   ]
  },
  {
   "cell_type": "code",
   "execution_count": 38,
   "metadata": {
    "ExecuteTime": {
     "start_time": "2023-12-05T08:17:37.619351Z",
     "end_time": "2023-12-05T08:17:37.749207Z"
    }
   },
   "outputs": [
    {
     "data": {
      "text/plain": "173105"
     },
     "execution_count": 38,
     "metadata": {},
     "output_type": "execute_result"
    }
   ],
   "source": [
    "df['emp_title'].nunique()"
   ]
  },
  {
   "cell_type": "code",
   "execution_count": 40,
   "metadata": {
    "ExecuteTime": {
     "start_time": "2023-12-05T08:19:24.112469Z",
     "end_time": "2023-12-05T08:19:24.269232Z"
    }
   },
   "outputs": [
    {
     "data": {
      "text/plain": "Teacher                    4389\nManager                    4250\nRegistered Nurse           1856\nRN                         1846\nSupervisor                 1830\n                           ... \nGlidewell Lab                 1\niControl Networks             1\ntrainee                       1\nBRIGHTER HAVEN AFC HOME       1\nSloane toyota glenside        1\nName: emp_title, Length: 173105, dtype: int64"
     },
     "execution_count": 40,
     "metadata": {},
     "output_type": "execute_result"
    }
   ],
   "source": [
    "df['emp_title'].value_counts()"
   ]
  },
  {
   "cell_type": "markdown",
   "metadata": {},
   "source": [
    "**TASK: Realistically there are too many unique job titles to try to convert this to a dummy variable feature. Let's remove that emp_title column.**"
   ]
  },
  {
   "cell_type": "code",
   "execution_count": 41,
   "metadata": {
    "ExecuteTime": {
     "start_time": "2023-12-05T08:20:54.006954Z",
     "end_time": "2023-12-05T08:20:54.136289Z"
    }
   },
   "outputs": [],
   "source": [
    "df = df.drop('emp_title', axis=1)"
   ]
  },
  {
   "cell_type": "markdown",
   "metadata": {},
   "source": [
    "**TASK: Create a count plot of the emp_length feature column. Challenge: Sort the order of the values.**"
   ]
  },
  {
   "cell_type": "code",
   "execution_count": 42,
   "metadata": {
    "ExecuteTime": {
     "start_time": "2023-12-05T08:33:55.416181Z",
     "end_time": "2023-12-05T08:33:55.540140Z"
    }
   },
   "outputs": [
    {
     "data": {
      "text/plain": "['1 year',\n '10+ years',\n '2 years',\n '3 years',\n '4 years',\n '5 years',\n '6 years',\n '7 years',\n '8 years',\n '9 years',\n '< 1 year']"
     },
     "execution_count": 42,
     "metadata": {},
     "output_type": "execute_result"
    }
   ],
   "source": [
    "sorted(df['emp_length'].dropna().unique())"
   ]
  },
  {
   "cell_type": "code",
   "execution_count": 46,
   "metadata": {
    "ExecuteTime": {
     "start_time": "2023-12-05T08:37:06.188155Z",
     "end_time": "2023-12-05T08:37:06.216028Z"
    }
   },
   "outputs": [],
   "source": [
    "emp_length_oder = ['< 1 year',\n",
    " '1 year',\n",
    " '2 years',\n",
    " '3 years',\n",
    " '4 years',\n",
    " '5 years',\n",
    " '6 years',\n",
    " '7 years',\n",
    " '8 years',\n",
    " '9 years',\n",
    " '10+ years']"
   ]
  },
  {
   "cell_type": "code",
   "execution_count": 47,
   "metadata": {
    "ExecuteTime": {
     "start_time": "2023-12-05T08:37:07.604752Z",
     "end_time": "2023-12-05T08:37:07.968025Z"
    }
   },
   "outputs": [
    {
     "data": {
      "text/plain": "<AxesSubplot:xlabel='emp_length', ylabel='count'>"
     },
     "execution_count": 47,
     "metadata": {},
     "output_type": "execute_result"
    },
    {
     "data": {
      "text/plain": "<Figure size 864x432 with 1 Axes>",
      "image/png": "[encoded data removed]"
     },
     "metadata": {
      "needs_background": "light"
     },
     "output_type": "display_data"
    }
   ],
   "source": [
    "plt.figure(figsize=(12,6))\n",
    "sns.countplot(data=df, x='emp_length', order=emp_length_oder)"
   ]
  },
  {
   "cell_type": "markdown",
   "metadata": {},
   "source": [
    "**TASK: Plot out the countplot with a hue separating Fully Paid vs Charged Off**"
   ]
  },
  {
   "cell_type": "code",
   "execution_count": 48,
   "metadata": {
    "ExecuteTime": {
     "start_time": "2023-12-05T08:37:33.464439Z",
     "end_time": "2023-12-05T08:37:34.347754Z"
    }
   },
   "outputs": [
    {
     "data": {
      "text/plain": "<AxesSubplot:xlabel='emp_length', ylabel='count'>"
     },
     "execution_count": 48,
     "metadata": {},
     "output_type": "execute_result"
    },
    {
     "data": {
      "text/plain": "<Figure size 864x432 with 1 Axes>",
      "image/png": "[encoded data removed]"
     },
     "metadata": {
      "needs_background": "light"
     },
     "output_type": "display_data"
    }
   ],
   "source": [
    "plt.figure(figsize=(12,6))\n",
    "sns.countplot(data=df, x='emp_length', order=emp_length_oder, hue='loan_status')"
   ]
  },
  {
   "cell_type": "markdown",
   "metadata": {},
   "source": [
    "**CHALLENGE TASK: This still doesn't really inform us if there is a strong relationship between employment length and being charged off, what we want is the percentage of charge offs per category. Essentially informing us what percent of people per employment category didn't pay back their loan. There are a multitude of ways to create this Series. Once you've created it, see if visualize it with a [bar plot](https://pandas.pydata.org/pandas-docs/version/0.23.4/generated/pandas.DataFrame.plot.html). This may be tricky, refer to solutions if you get stuck on creating this Series.**"
   ]
  },
  {
   "cell_type": "code",
   "execution_count": 60,
   "metadata": {
    "ExecuteTime": {
     "start_time": "2023-12-05T08:46:27.593868Z",
     "end_time": "2023-12-05T08:46:28.048994Z"
    }
   },
   "outputs": [],
   "source": [
    "emp_co = df[df['loan_status'] == 'Charged Off'].groupby('emp_length').count()['loan_status']"
   ]
  },
  {
   "cell_type": "code",
   "execution_count": 61,
   "metadata": {
    "ExecuteTime": {
     "start_time": "2023-12-05T08:46:29.883621Z",
     "end_time": "2023-12-05T08:46:30.908039Z"
    }
   },
   "outputs": [],
   "source": [
    "emp_fp = df[df['loan_status'] == 'Fully Paid'].groupby('emp_length').count()['loan_status']"
   ]
  },
  {
   "cell_type": "code",
   "execution_count": 65,
   "metadata": {
    "ExecuteTime": {
     "start_time": "2023-12-05T08:48:06.916032Z",
     "end_time": "2023-12-05T08:48:06.935337Z"
    }
   },
   "outputs": [],
   "source": [
    "emp = emp_co/(emp_co+emp_fp)"
   ]
  },
  {
   "cell_type": "code",
   "execution_count": 66,
   "metadata": {
    "ExecuteTime": {
     "start_time": "2023-12-05T08:48:08.160974Z",
     "end_time": "2023-12-05T08:48:08.400418Z"
    }
   },
   "outputs": [
    {
     "data": {
      "text/plain": "<AxesSubplot:xlabel='emp_length'>"
     },
     "execution_count": 66,
     "metadata": {},
     "output_type": "execute_result"
    },
    {
     "data": {
      "text/plain": "<Figure size 432x288 with 1 Axes>",
      "image/png": "[encoded data removed]"
     },
     "metadata": {
      "needs_background": "light"
     },
     "output_type": "display_data"
    }
   ],
   "source": [
    "emp.plot(kind='bar')"
   ]
  },
  {
   "cell_type": "markdown",
   "metadata": {},
   "source": [
    "**TASK: Charge off rates are extremely similar across all employment lengths. Go ahead and drop the emp_length column.**"
   ]
  },
  {
   "cell_type": "code",
   "execution_count": null,
   "metadata": {
    "ExecuteTime": {
     "start_time": "2023-12-05T08:11:34.532543Z",
     "end_time": "2023-12-05T08:11:34.907761Z"
    }
   },
   "outputs": [],
   "source": [
    "df = df.drop('emp_length', axis=1)"
   ]
  },
  {
   "cell_type": "markdown",
   "metadata": {},
   "source": [
    "**TASK: Revisit the DataFrame to see what feature columns still have missing data.**"
   ]
  },
  {
   "cell_type": "code",
   "execution_count": 71,
   "metadata": {
    "ExecuteTime": {
     "start_time": "2023-12-05T08:50:10.194668Z",
     "end_time": "2023-12-05T08:50:10.683216Z"
    }
   },
   "outputs": [
    {
     "data": {
      "text/plain": "loan_amnt                   0\nterm                        0\nint_rate                    0\ninstallment                 0\ngrade                       0\nsub_grade                   0\nhome_ownership              0\nannual_inc                  0\nverification_status         0\nissue_d                     0\nloan_status                 0\npurpose                     0\ntitle                    1755\ndti                         0\nearliest_cr_line            0\nopen_acc                    0\npub_rec                     0\nrevol_bal                   0\nrevol_util                276\ntotal_acc                   0\ninitial_list_status         0\napplication_type            0\nmort_acc                37795\npub_rec_bankruptcies      535\naddress                     0\nloan_repaid                 0\ndtype: int64"
     },
     "execution_count": 71,
     "metadata": {},
     "output_type": "execute_result"
    }
   ],
   "source": [
    "df.isnull().sum()"
   ]
  },
  {
   "cell_type": "markdown",
   "metadata": {},
   "source": [
    "**TASK: Review the title column vs the purpose column. Is this repeated information?**"
   ]
  },
  {
   "cell_type": "code",
   "execution_count": 73,
   "metadata": {
    "ExecuteTime": {
     "start_time": "2023-12-05T08:51:54.582192Z",
     "end_time": "2023-12-05T08:51:54.614523Z"
    }
   },
   "outputs": [
    {
     "name": "stdout",
     "output_type": "stream",
     "text": [
      "A category provided by the borrower for the loan request. \n",
      "The loan title provided by the borrower\n"
     ]
    }
   ],
   "source": [
    "feat_info('purpose')\n",
    "feat_info('title')"
   ]
  },
  {
   "cell_type": "code",
   "execution_count": 44,
   "metadata": {
    "ExecuteTime": {
     "start_time": "2023-12-05T08:11:34.579829Z",
     "end_time": "2023-12-05T08:11:34.908837Z"
    }
   },
   "outputs": [
    {
     "data": {
      "text/plain": "0                   Vacation\n1         Debt consolidation\n2    Credit card refinancing\n3    Credit card refinancing\n4      Credit Card Refinance\n5         Debt consolidation\n6           Home improvement\n7       No More Credit Cards\n8         Debt consolidation\n9         Debt Consolidation\nName: title, dtype: object"
     },
     "execution_count": 44,
     "metadata": {},
     "output_type": "execute_result"
    }
   ],
   "source": [
    "df['title'].head(10)"
   ]
  },
  {
   "cell_type": "markdown",
   "metadata": {},
   "source": [
    "**TASK: The title column is simply a string subcategory/description of the purpose column. Go ahead and drop the title column.**"
   ]
  },
  {
   "cell_type": "code",
   "execution_count": 74,
   "metadata": {
    "ExecuteTime": {
     "start_time": "2023-12-05T08:52:28.453118Z",
     "end_time": "2023-12-05T08:52:28.455250Z"
    }
   },
   "outputs": [],
   "source": [
    "df = df.drop('title', axis=1)"
   ]
  },
  {
   "cell_type": "markdown",
   "metadata": {},
   "source": [
    "---\n",
    "**NOTE: This is one of the hardest parts of the project! Refer to the solutions video if you need guidance, feel free to fill or drop the missing values of the mort_acc however you see fit! Here we're going with a very specific approach.**\n",
    "\n",
    "\n",
    "---\n",
    "**TASK: Find out what the mort_acc feature represents**"
   ]
  },
  {
   "cell_type": "code",
   "execution_count": 75,
   "metadata": {
    "ExecuteTime": {
     "start_time": "2023-12-05T08:52:45.843594Z",
     "end_time": "2023-12-05T08:52:45.868067Z"
    }
   },
   "outputs": [
    {
     "name": "stdout",
     "output_type": "stream",
     "text": [
      "Number of mortgage accounts.\n"
     ]
    }
   ],
   "source": [
    "feat_info('mort_acc')"
   ]
  },
  {
   "cell_type": "markdown",
   "metadata": {},
   "source": [
    "**TASK: Create a value_counts of the mort_acc column.**"
   ]
  },
  {
   "cell_type": "code",
   "execution_count": 76,
   "metadata": {
    "ExecuteTime": {
     "start_time": "2023-12-05T08:53:18.248289Z",
     "end_time": "2023-12-05T08:53:18.300967Z"
    }
   },
   "outputs": [
    {
     "data": {
      "text/plain": "0.0     139777\n1.0      60416\n2.0      49948\n3.0      38049\n4.0      27887\n5.0      18194\n6.0      11069\n7.0       6052\n8.0       3121\n9.0       1656\n10.0       865\n11.0       479\n12.0       264\n13.0       146\n14.0       107\n15.0        61\n16.0        37\n17.0        22\n18.0        18\n19.0        15\n20.0        13\n24.0        10\n22.0         7\n21.0         4\n25.0         4\n27.0         3\n23.0         2\n31.0         2\n26.0         2\n32.0         2\n28.0         1\n34.0         1\n30.0         1\nName: mort_acc, dtype: int64"
     },
     "execution_count": 76,
     "metadata": {},
     "output_type": "execute_result"
    }
   ],
   "source": [
    "df['mort_acc'].value_counts()"
   ]
  },
  {
   "cell_type": "markdown",
   "metadata": {},
   "source": [
    "**TASK: There are many ways we could deal with this missing data. We could attempt to build a simple model to fill it in, such as a linear model, we could just fill it in based on the mean of the other columns, or you could even bin the columns into categories and then set NaN as its own category. There is no 100% correct approach! Let's review the other columsn to see which most highly correlates to mort_acc**"
   ]
  },
  {
   "cell_type": "code",
   "execution_count": 77,
   "metadata": {
    "ExecuteTime": {
     "start_time": "2023-12-05T08:54:48.301894Z",
     "end_time": "2023-12-05T08:54:48.741722Z"
    }
   },
   "outputs": [
    {
     "data": {
      "text/plain": "int_rate               -0.082583\ndti                    -0.025439\nrevol_util              0.007514\npub_rec                 0.011552\npub_rec_bankruptcies    0.027239\nloan_repaid             0.073111\nopen_acc                0.109205\ninstallment             0.193694\nrevol_bal               0.194925\nloan_amnt               0.222315\nannual_inc              0.236320\ntotal_acc               0.381072\nmort_acc                1.000000\nName: mort_acc, dtype: float64"
     },
     "execution_count": 77,
     "metadata": {},
     "output_type": "execute_result"
    }
   ],
   "source": [
    "df.corr()['mort_acc'].sort_values()"
   ]
  },
  {
   "cell_type": "markdown",
   "metadata": {},
   "source": [
    "**TASK: Looks like the total_acc feature correlates with the mort_acc , this makes sense! Let's try this fillna() approach. We will group the dataframe by the total_acc and calculate the mean value for the mort_acc per total_acc entry. To get the result below:**"
   ]
  },
  {
   "cell_type": "code",
   "execution_count": 86,
   "metadata": {
    "ExecuteTime": {
     "start_time": "2023-12-05T09:00:50.271156Z",
     "end_time": "2023-12-05T09:00:50.482130Z"
    }
   },
   "outputs": [],
   "source": [
    "total_acc_avg = df.groupby('total_acc').mean()['mort_acc']"
   ]
  },
  {
   "cell_type": "markdown",
   "metadata": {},
   "source": [
    "**CHALLENGE TASK: Let's fill in the missing mort_acc values based on their total_acc value. If the mort_acc is missing, then we will fill in that missing value with the mean value corresponding to its total_acc value from the Series we created above. This involves using an .apply() method with two columns. Check out the link below for more info, or review the solutions video/notebook.**\n",
    "\n",
    "[Helpful Link](https://stackoverflow.com/questions/13331698/how-to-apply-a-function-to-two-columns-of-pandas-dataframe) "
   ]
  },
  {
   "cell_type": "code",
   "execution_count": 87,
   "metadata": {
    "ExecuteTime": {
     "start_time": "2023-12-05T09:00:51.907267Z",
     "end_time": "2023-12-05T09:00:51.936030Z"
    }
   },
   "outputs": [],
   "source": [
    "def fill_mort_acc(total_acc, mort_acc):\n",
    " if np.isnan(mort_acc):\n",
    "  return total_acc_avg[total_acc]\n",
    " else:\n",
    "  return mort_acc"
   ]
  },
  {
   "cell_type": "code",
   "execution_count": 92,
   "metadata": {
    "ExecuteTime": {
     "start_time": "2023-12-05T09:02:21.138827Z",
     "end_time": "2023-12-05T09:02:28.228973Z"
    }
   },
   "outputs": [],
   "source": [
    "df['mort_acc'] = df.apply(lambda x: fill_mort_acc(x['total_acc'], x['mort_acc']), axis=1)"
   ]
  },
  {
   "cell_type": "code",
   "execution_count": 93,
   "metadata": {
    "ExecuteTime": {
     "start_time": "2023-12-05T09:03:55.661237Z",
     "end_time": "2023-12-05T09:03:56.098390Z"
    }
   },
   "outputs": [
    {
     "data": {
      "text/plain": "loan_amnt                 0\nterm                      0\nint_rate                  0\ninstallment               0\ngrade                     0\nsub_grade                 0\nhome_ownership            0\nannual_inc                0\nverification_status       0\nissue_d                   0\nloan_status               0\npurpose                   0\ndti                       0\nearliest_cr_line          0\nopen_acc                  0\npub_rec                   0\nrevol_bal                 0\nrevol_util              276\ntotal_acc                 0\ninitial_list_status       0\napplication_type          0\nmort_acc                  0\npub_rec_bankruptcies    535\naddress                   0\nloan_repaid               0\ndtype: int64"
     },
     "execution_count": 93,
     "metadata": {},
     "output_type": "execute_result"
    }
   ],
   "source": [
    "df.isnull().sum()"
   ]
  },
  {
   "cell_type": "markdown",
   "metadata": {},
   "source": [
    "**TASK: revol_util and the pub_rec_bankruptcies have missing data points, but they account for less than 0.5% of the total data. Go ahead and remove the rows that are missing those values in those columns with dropna().**"
   ]
  },
  {
   "cell_type": "code",
   "execution_count": 49,
   "metadata": {
    "ExecuteTime": {
     "start_time": "2023-12-05T08:11:34.693959Z",
     "end_time": "2023-12-05T08:11:34.911990Z"
    }
   },
   "outputs": [],
   "source": [
    "df = df.dropna()"
   ]
  },
  {
   "cell_type": "code",
   "execution_count": 98,
   "outputs": [
    {
     "data": {
      "text/plain": "loan_amnt               0\nterm                    0\nint_rate                0\ninstallment             0\ngrade                   0\nsub_grade               0\nhome_ownership          0\nannual_inc              0\nverification_status     0\nissue_d                 0\nloan_status             0\npurpose                 0\ndti                     0\nearliest_cr_line        0\nopen_acc                0\npub_rec                 0\nrevol_bal               0\nrevol_util              0\ntotal_acc               0\ninitial_list_status     0\napplication_type        0\nmort_acc                0\npub_rec_bankruptcies    0\naddress                 0\nloan_repaid             0\ndtype: int64"
     },
     "execution_count": 98,
     "metadata": {},
     "output_type": "execute_result"
    }
   ],
   "source": [
    "df.isnull().sum()"
   ],
   "metadata": {
    "collapsed": false,
    "ExecuteTime": {
     "start_time": "2023-12-05T09:05:31.775341Z",
     "end_time": "2023-12-05T09:05:32.121207Z"
    }
   }
  },
  {
   "cell_type": "markdown",
   "metadata": {},
   "source": [
    "## Categorical Variables and Dummy Variables\n",
    "\n",
    "**We're done working with the missing data! Now we just need to deal with the string values due to the categorical columns.**\n",
    "\n",
    "**TASK: List all the columns that are currently non-numeric. [Helpful Link](https://stackoverflow.com/questions/22470690/get-list-of-pandas-dataframe-columns-based-on-data-type)**\n",
    "\n",
    "[Another very useful method call](https://pandas.pydata.org/pandas-docs/stable/reference/api/pandas.DataFrame.select_dtypes.html)"
   ]
  },
  {
   "cell_type": "code",
   "execution_count": 99,
   "metadata": {
    "ExecuteTime": {
     "start_time": "2023-12-05T09:08:31.073572Z",
     "end_time": "2023-12-05T09:08:31.215157Z"
    }
   },
   "outputs": [
    {
     "data": {
      "text/plain": "Index(['term', 'grade', 'sub_grade', 'home_ownership', 'verification_status',\n       'issue_d', 'loan_status', 'purpose', 'earliest_cr_line',\n       'initial_list_status', 'application_type', 'address'],\n      dtype='object')"
     },
     "execution_count": 99,
     "metadata": {},
     "output_type": "execute_result"
    }
   ],
   "source": [
    "df.select_dtypes(['object']).columns"
   ]
  },
  {
   "cell_type": "markdown",
   "metadata": {},
   "source": [
    "---\n",
    "**Let's now go through all the string features to see what we should do with them.**\n",
    "\n",
    "---\n",
    "\n",
    "\n",
    "### term feature\n",
    "\n",
    "**TASK: Convert the term feature into either a 36 or 60 integer numeric data type using .apply() or .map().**"
   ]
  },
  {
   "cell_type": "code",
   "execution_count": 100,
   "metadata": {
    "ExecuteTime": {
     "start_time": "2023-12-05T09:09:13.707978Z",
     "end_time": "2023-12-05T09:09:13.714483Z"
    }
   },
   "outputs": [
    {
     "name": "stdout",
     "output_type": "stream",
     "text": [
      "The number of payments on the loan. Values are in months and can be either 36 or 60.\n"
     ]
    }
   ],
   "source": [
    "feat_info('term')"
   ]
  },
  {
   "cell_type": "code",
   "execution_count": 106,
   "metadata": {
    "ExecuteTime": {
     "start_time": "2023-12-05T09:11:48.619407Z",
     "end_time": "2023-12-05T09:11:48.966624Z"
    }
   },
   "outputs": [
    {
     "name": "stderr",
     "output_type": "stream",
     "text": [
      "<ipython-input-106-51f626dba8c4>:1: SettingWithCopyWarning: \n",
      "A value is trying to be set on a copy of a slice from a DataFrame.\n",
      "Try using .loc[row_indexer,col_indexer] = value instead\n",
      "\n",
      "See the caveats in the documentation: https://pandas.pydata.org/pandas-docs/stable/user_guide/indexing.html#returning-a-view-versus-a-copy\n",
      "  df['term'] = df['term'].apply(lambda x: 36 if x==' 36 months' else 60)\n"
     ]
    }
   ],
   "source": [
    "df['term'] = df['term'].apply(lambda x: 36 if x==' 36 months' else 60)"
   ]
  },
  {
   "cell_type": "code",
   "execution_count": 108,
   "metadata": {
    "ExecuteTime": {
     "start_time": "2023-12-05T09:12:37.566697Z",
     "end_time": "2023-12-05T09:12:37.597063Z"
    }
   },
   "outputs": [
    {
     "data": {
      "text/plain": "36    301247\n60     93972\nName: term, dtype: int64"
     },
     "execution_count": 108,
     "metadata": {},
     "output_type": "execute_result"
    }
   ],
   "source": [
    "df['term'].value_counts()"
   ]
  },
  {
   "cell_type": "markdown",
   "metadata": {},
   "source": [
    "### grade feature\n",
    "\n",
    "**TASK: We already know grade is part of sub_grade, so just drop the grade feature.**"
   ]
  },
  {
   "cell_type": "code",
   "execution_count": 110,
   "metadata": {
    "ExecuteTime": {
     "start_time": "2023-12-05T09:13:08.692461Z",
     "end_time": "2023-12-05T09:13:08.842277Z"
    }
   },
   "outputs": [],
   "source": [
    "df = df.drop('grade', axis=1)"
   ]
  },
  {
   "cell_type": "code",
   "execution_count": 112,
   "metadata": {
    "ExecuteTime": {
     "start_time": "2023-12-05T09:13:16.791875Z",
     "end_time": "2023-12-05T09:13:16.814729Z"
    }
   },
   "outputs": [
    {
     "data": {
      "text/plain": "   loan_amnt  term  int_rate  installment sub_grade home_ownership  \\\n0    10000.0    36     11.44       329.48        B4           RENT   \n1     8000.0    36     11.99       265.68        B5       MORTGAGE   \n2    15600.0    36     10.49       506.97        B3           RENT   \n3     7200.0    36      6.49       220.65        A2           RENT   \n4    24375.0    60     17.27       609.33        C5       MORTGAGE   \n\n   annual_inc verification_status   issue_d  loan_status  ... pub_rec  \\\n0    117000.0        Not Verified  Jan-2015   Fully Paid  ...     0.0   \n1     65000.0        Not Verified  Jan-2015   Fully Paid  ...     0.0   \n2     43057.0     Source Verified  Jan-2015   Fully Paid  ...     0.0   \n3     54000.0        Not Verified  Nov-2014   Fully Paid  ...     0.0   \n4     55000.0            Verified  Apr-2013  Charged Off  ...     0.0   \n\n   revol_bal revol_util  total_acc  initial_list_status  application_type  \\\n0    36369.0       41.8       25.0                    w        INDIVIDUAL   \n1    20131.0       53.3       27.0                    f        INDIVIDUAL   \n2    11987.0       92.2       26.0                    f        INDIVIDUAL   \n3     5472.0       21.5       13.0                    f        INDIVIDUAL   \n4    24584.0       69.8       43.0                    f        INDIVIDUAL   \n\n   mort_acc  pub_rec_bankruptcies  \\\n0       0.0                   0.0   \n1       3.0                   0.0   \n2       0.0                   0.0   \n3       0.0                   0.0   \n4       1.0                   0.0   \n\n                                           address loan_repaid  \n0     0174 Michelle Gateway\\nMendozaberg, OK 22690           1  \n1  1076 Carney Fort Apt. 347\\nLoganmouth, SD 05113           1  \n2  87025 Mark Dale Apt. 269\\nNew Sabrina, WV 05113           1  \n3            823 Reid Ford\\nDelacruzside, MA 00813           1  \n4             679 Luna Roads\\nGreggshire, VA 11650           0  \n\n[5 rows x 24 columns]",
      "text/html": "<div>\n<style scoped>\n    .dataframe tbody tr th:only-of-type {\n        vertical-align: middle;\n    }\n\n    .dataframe tbody tr th {\n        vertical-align: top;\n    }\n\n    .dataframe thead th {\n        text-align: right;\n    }\n</style>\n<table border=\"1\" class=\"dataframe\">\n  <thead>\n    <tr style=\"text-align: right;\">\n      <th></th>\n      <th>loan_amnt</th>\n      <th>term</th>\n      <th>int_rate</th>\n      <th>installment</th>\n      <th>sub_grade</th>\n      <th>home_ownership</th>\n      <th>annual_inc</th>\n      <th>verification_status</th>\n      <th>issue_d</th>\n      <th>loan_status</th>\n      <th>...</th>\n      <th>pub_rec</th>\n      <th>revol_bal</th>\n      <th>revol_util</th>\n      <th>total_acc</th>\n      <th>initial_list_status</th>\n      <th>application_type</th>\n      <th>mort_acc</th>\n      <th>pub_rec_bankruptcies</th>\n      <th>address</th>\n      <th>loan_repaid</th>\n    </tr>\n  </thead>\n  <tbody>\n    <tr>\n      <th>0</th>\n      <td>10000.0</td>\n      <td>36</td>\n      <td>11.44</td>\n      <td>329.48</td>\n      <td>B4</td>\n      <td>RENT</td>\n      <td>117000.0</td>\n      <td>Not Verified</td>\n      <td>Jan-2015</td>\n      <td>Fully Paid</td>\n      <td>...</td>\n      <td>0.0</td>\n      <td>36369.0</td>\n      <td>41.8</td>\n      <td>25.0</td>\n      <td>w</td>\n      <td>INDIVIDUAL</td>\n      <td>0.0</td>\n      <td>0.0</td>\n      <td>0174 Michelle Gateway\\nMendozaberg, OK 22690</td>\n      <td>1</td>\n    </tr>\n    <tr>\n      <th>1</th>\n      <td>8000.0</td>\n      <td>36</td>\n      <td>11.99</td>\n      <td>265.68</td>\n      <td>B5</td>\n      <td>MORTGAGE</td>\n      <td>65000.0</td>\n      <td>Not Verified</td>\n      <td>Jan-2015</td>\n      <td>Fully Paid</td>\n      <td>...</td>\n      <td>0.0</td>\n      <td>20131.0</td>\n      <td>53.3</td>\n      <td>27.0</td>\n      <td>f</td>\n      <td>INDIVIDUAL</td>\n      <td>3.0</td>\n      <td>0.0</td>\n      <td>1076 Carney Fort Apt. 347\\nLoganmouth, SD 05113</td>\n      <td>1</td>\n    </tr>\n    <tr>\n      <th>2</th>\n      <td>15600.0</td>\n      <td>36</td>\n      <td>10.49</td>\n      <td>506.97</td>\n      <td>B3</td>\n      <td>RENT</td>\n      <td>43057.0</td>\n      <td>Source Verified</td>\n      <td>Jan-2015</td>\n      <td>Fully Paid</td>\n      <td>...</td>\n      <td>0.0</td>\n      <td>11987.0</td>\n      <td>92.2</td>\n      <td>26.0</td>\n      <td>f</td>\n      <td>INDIVIDUAL</td>\n      <td>0.0</td>\n      <td>0.0</td>\n      <td>87025 Mark Dale Apt. 269\\nNew Sabrina, WV 05113</td>\n      <td>1</td>\n    </tr>\n    <tr>\n      <th>3</th>\n      <td>7200.0</td>\n      <td>36</td>\n      <td>6.49</td>\n      <td>220.65</td>\n      <td>A2</td>\n      <td>RENT</td>\n      <td>54000.0</td>\n      <td>Not Verified</td>\n      <td>Nov-2014</td>\n      <td>Fully Paid</td>\n      <td>...</td>\n      <td>0.0</td>\n      <td>5472.0</td>\n      <td>21.5</td>\n      <td>13.0</td>\n      <td>f</td>\n      <td>INDIVIDUAL</td>\n      <td>0.0</td>\n      <td>0.0</td>\n      <td>823 Reid Ford\\nDelacruzside, MA 00813</td>\n      <td>1</td>\n    </tr>\n    <tr>\n      <th>4</th>\n      <td>24375.0</td>\n      <td>60</td>\n      <td>17.27</td>\n      <td>609.33</td>\n      <td>C5</td>\n      <td>MORTGAGE</td>\n      <td>55000.0</td>\n      <td>Verified</td>\n      <td>Apr-2013</td>\n      <td>Charged Off</td>\n      <td>...</td>\n      <td>0.0</td>\n      <td>24584.0</td>\n      <td>69.8</td>\n      <td>43.0</td>\n      <td>f</td>\n      <td>INDIVIDUAL</td>\n      <td>1.0</td>\n      <td>0.0</td>\n      <td>679 Luna Roads\\nGreggshire, VA 11650</td>\n      <td>0</td>\n    </tr>\n  </tbody>\n</table>\n<p>5 rows × 24 columns</p>\n</div>"
     },
     "execution_count": 112,
     "metadata": {},
     "output_type": "execute_result"
    }
   ],
   "source": [
    "df.head()"
   ]
  },
  {
   "cell_type": "markdown",
   "metadata": {},
   "source": [
    "**TASK: Convert the subgrade into dummy variables. Then concatenate these new columns to the original dataframe. Remember to drop the original subgrade column and to add drop_first=True to your get_dummies call.**"
   ]
  },
  {
   "cell_type": "code",
   "execution_count": null,
   "metadata": {
    "ExecuteTime": {
     "start_time": "2023-12-05T09:30:50.546694Z",
     "end_time": "2023-12-05T09:30:51.001592Z"
    }
   },
   "outputs": [],
   "source": [
    "dummies = pd.get_dummies(df['sub_grade'], drop_first=True)\n",
    "df = pd.concat([df.drop('sub_grade', axis=1), dummies], axis=1)"
   ]
  },
  {
   "cell_type": "code",
   "execution_count": 119,
   "metadata": {
    "ExecuteTime": {
     "start_time": "2023-12-05T09:32:03.751868Z",
     "end_time": "2023-12-05T09:32:03.790047Z"
    }
   },
   "outputs": [
    {
     "data": {
      "text/plain": "Index(['loan_amnt', 'term', 'int_rate', 'installment', 'home_ownership',\n       'annual_inc', 'verification_status', 'issue_d', 'loan_status',\n       'purpose', 'dti', 'earliest_cr_line', 'open_acc', 'pub_rec',\n       'revol_bal', 'revol_util', 'total_acc', 'initial_list_status',\n       'application_type', 'mort_acc', 'pub_rec_bankruptcies', 'address',\n       'loan_repaid', 'A2', 'A3', 'A4', 'A5', 'B1', 'B2', 'B3', 'B4', 'B5',\n       'C1', 'C2', 'C3', 'C4', 'C5', 'D1', 'D2', 'D3', 'D4', 'D5', 'E1', 'E2',\n       'E3', 'E4', 'E5', 'F1', 'F2', 'F3', 'F4', 'F5', 'G1', 'G2', 'G3', 'G4',\n       'G5'],\n      dtype='object')"
     },
     "execution_count": 119,
     "metadata": {},
     "output_type": "execute_result"
    }
   ],
   "source": [
    "df.columns"
   ]
  },
  {
   "cell_type": "markdown",
   "metadata": {},
   "source": [
    "### verification_status, application_type,initial_list_status,purpose \n",
    "**TASK: Convert these columns: ['verification_status', 'application_type','initial_list_status','purpose'] into dummy variables and concatenate them with the original dataframe. Remember to set drop_first=True and to drop the original columns.**"
   ]
  },
  {
   "cell_type": "code",
   "execution_count": 120,
   "metadata": {
    "ExecuteTime": {
     "start_time": "2023-12-05T09:33:45.141826Z",
     "end_time": "2023-12-05T09:33:45.671616Z"
    }
   },
   "outputs": [],
   "source": [
    "dummies1 = pd.get_dummies(df[['verification_status', 'application_type','initial_list_status','purpose']], drop_first=True)\n",
    "df = pd.concat([df.drop(['verification_status', 'application_type','initial_list_status','purpose'], axis=1), dummies1], axis=1)"
   ]
  },
  {
   "cell_type": "code",
   "execution_count": 121,
   "metadata": {
    "ExecuteTime": {
     "start_time": "2023-12-05T09:33:51.746814Z",
     "end_time": "2023-12-05T09:33:51.759601Z"
    }
   },
   "outputs": [
    {
     "data": {
      "text/plain": "Index(['loan_amnt', 'term', 'int_rate', 'installment', 'home_ownership',\n       'annual_inc', 'issue_d', 'loan_status', 'dti', 'earliest_cr_line',\n       'open_acc', 'pub_rec', 'revol_bal', 'revol_util', 'total_acc',\n       'mort_acc', 'pub_rec_bankruptcies', 'address', 'loan_repaid', 'A2',\n       'A3', 'A4', 'A5', 'B1', 'B2', 'B3', 'B4', 'B5', 'C1', 'C2', 'C3', 'C4',\n       'C5', 'D1', 'D2', 'D3', 'D4', 'D5', 'E1', 'E2', 'E3', 'E4', 'E5', 'F1',\n       'F2', 'F3', 'F4', 'F5', 'G1', 'G2', 'G3', 'G4', 'G5',\n       'verification_status_Source Verified', 'verification_status_Verified',\n       'application_type_INDIVIDUAL', 'application_type_JOINT',\n       'initial_list_status_w', 'purpose_credit_card',\n       'purpose_debt_consolidation', 'purpose_educational',\n       'purpose_home_improvement', 'purpose_house', 'purpose_major_purchase',\n       'purpose_medical', 'purpose_moving', 'purpose_other',\n       'purpose_renewable_energy', 'purpose_small_business',\n       'purpose_vacation', 'purpose_wedding'],\n      dtype='object')"
     },
     "execution_count": 121,
     "metadata": {},
     "output_type": "execute_result"
    }
   ],
   "source": [
    "df.columns"
   ]
  },
  {
   "cell_type": "markdown",
   "metadata": {},
   "source": [
    "### home_ownership\n",
    "**TASK:Review the value_counts for the home_ownership column.**"
   ]
  },
  {
   "cell_type": "code",
   "execution_count": 122,
   "metadata": {
    "ExecuteTime": {
     "start_time": "2023-12-05T09:34:23.313690Z",
     "end_time": "2023-12-05T09:34:23.350656Z"
    }
   },
   "outputs": [
    {
     "data": {
      "text/plain": "MORTGAGE    198022\nRENT        159395\nOWN          37660\nOTHER          110\nNONE            29\nANY              3\nName: home_ownership, dtype: int64"
     },
     "execution_count": 122,
     "metadata": {},
     "output_type": "execute_result"
    }
   ],
   "source": [
    "df['home_ownership'].value_counts()"
   ]
  },
  {
   "cell_type": "markdown",
   "metadata": {},
   "source": [
    "**TASK: Convert these to dummy variables, but [replace](https://pandas.pydata.org/pandas-docs/stable/reference/api/pandas.DataFrame.replace.html) NONE and ANY with OTHER, so that we end up with just 4 categories, MORTGAGE, RENT, OWN, OTHER. Then concatenate them with the original dataframe. Remember to set drop_first=True and to drop the original columns.**"
   ]
  },
  {
   "cell_type": "code",
   "execution_count": 123,
   "metadata": {
    "ExecuteTime": {
     "start_time": "2023-12-05T09:36:36.435335Z",
     "end_time": "2023-12-05T09:36:36.499355Z"
    }
   },
   "outputs": [],
   "source": [
    "df['home_ownership'] = df['home_ownership'].replace(['NONE','ANY'], 'OTHER')"
   ]
  },
  {
   "cell_type": "code",
   "execution_count": 124,
   "outputs": [],
   "source": [
    "dummies = pd.get_dummies(df['home_ownership'], drop_first=True)\n",
    "df = pd.concat([df.drop('home_ownership', axis=1), dummies], axis=1)"
   ],
   "metadata": {
    "collapsed": false,
    "ExecuteTime": {
     "start_time": "2023-12-05T09:37:05.188656Z",
     "end_time": "2023-12-05T09:37:05.585043Z"
    }
   }
  },
  {
   "cell_type": "markdown",
   "metadata": {},
   "source": [
    "### address\n",
    "**TASK: Let's feature engineer a zip code column from the address in the data set. Create a column called 'zip_code' that extracts the zip code from the address column.**"
   ]
  },
  {
   "cell_type": "code",
   "execution_count": 125,
   "metadata": {
    "ExecuteTime": {
     "start_time": "2023-12-05T09:38:51.623337Z",
     "end_time": "2023-12-05T09:38:51.794516Z"
    }
   },
   "outputs": [],
   "source": [
    "df['zip_code'] = df['address'].apply(lambda a: a[-5:])"
   ]
  },
  {
   "cell_type": "code",
   "execution_count": 127,
   "metadata": {
    "ExecuteTime": {
     "start_time": "2023-12-05T09:39:32.123446Z",
     "end_time": "2023-12-05T09:39:32.144277Z"
    }
   },
   "outputs": [
    {
     "data": {
      "text/plain": "70466    56880\n22690    56413\n30723    56402\n48052    55811\n00813    45725\n29597    45393\n05113    45300\n11650    11210\n93700    11126\n86630    10959\nName: zip_code, dtype: int64"
     },
     "execution_count": 127,
     "metadata": {},
     "output_type": "execute_result"
    }
   ],
   "source": [
    "df['zip_code'].value_counts()"
   ]
  },
  {
   "cell_type": "markdown",
   "metadata": {},
   "source": [
    "**TASK: Now make this zip_code column into dummy variables using pandas. Concatenate the result and drop the original zip_code column along with dropping the address column.**"
   ]
  },
  {
   "cell_type": "code",
   "execution_count": 128,
   "metadata": {
    "ExecuteTime": {
     "start_time": "2023-12-05T09:40:06.679503Z",
     "end_time": "2023-12-05T09:40:07.160568Z"
    }
   },
   "outputs": [],
   "source": [
    "dummies = pd.get_dummies(df['zip_code'], drop_first=True)\n",
    "df = pd.concat([df.drop('zip_code', axis=1), dummies], axis=1)"
   ]
  },
  {
   "cell_type": "code",
   "execution_count": 129,
   "metadata": {
    "ExecuteTime": {
     "start_time": "2023-12-05T09:40:20.754659Z",
     "end_time": "2023-12-05T09:40:21.060953Z"
    }
   },
   "outputs": [],
   "source": [
    "df = df.drop('address', axis=1)"
   ]
  },
  {
   "cell_type": "markdown",
   "metadata": {},
   "source": [
    "### issue_d \n",
    "\n",
    "**TASK: This would be data leakage, we wouldn't know beforehand whether or not a loan would be issued when using our model, so in theory we wouldn't have an issue_date, drop this feature.**"
   ]
  },
  {
   "cell_type": "code",
   "execution_count": 130,
   "metadata": {
    "ExecuteTime": {
     "start_time": "2023-12-05T09:40:39.505581Z",
     "end_time": "2023-12-05T09:40:39.570807Z"
    }
   },
   "outputs": [
    {
     "name": "stdout",
     "output_type": "stream",
     "text": [
      "The month which the loan was funded\n"
     ]
    }
   ],
   "source": [
    "feat_info('issue_d')"
   ]
  },
  {
   "cell_type": "code",
   "execution_count": 131,
   "metadata": {
    "ExecuteTime": {
     "start_time": "2023-12-05T09:41:00.951514Z",
     "end_time": "2023-12-05T09:41:01.045145Z"
    }
   },
   "outputs": [],
   "source": [
    "df = df.drop('issue_d', axis=1)"
   ]
  },
  {
   "cell_type": "markdown",
   "metadata": {},
   "source": [
    "### earliest_cr_line\n",
    "**TASK: This appears to be a historical time stamp feature. Extract the year from this feature using a .apply function, then convert it to a numeric feature. Set this new data to a feature column called 'earliest_cr_year'.Then drop the earliest_cr_line feature.**"
   ]
  },
  {
   "cell_type": "code",
   "execution_count": 132,
   "metadata": {
    "ExecuteTime": {
     "start_time": "2023-12-05T09:41:32.407522Z",
     "end_time": "2023-12-05T09:41:32.444479Z"
    }
   },
   "outputs": [
    {
     "name": "stdout",
     "output_type": "stream",
     "text": [
      "The month the borrower's earliest reported credit line was opened\n"
     ]
    }
   ],
   "source": [
    "feat_info('earliest_cr_line')"
   ]
  },
  {
   "cell_type": "code",
   "execution_count": 134,
   "metadata": {
    "ExecuteTime": {
     "start_time": "2023-12-05T09:43:02.707539Z",
     "end_time": "2023-12-05T09:43:02.960423Z"
    }
   },
   "outputs": [],
   "source": [
    "df['earliest_cr_line'] =df['earliest_cr_line'].apply(lambda d: int(d[-4:]))"
   ]
  },
  {
   "cell_type": "code",
   "execution_count": 136,
   "metadata": {
    "ExecuteTime": {
     "start_time": "2023-12-05T09:43:47.044093Z",
     "end_time": "2023-12-05T09:43:47.085410Z"
    }
   },
   "outputs": [
    {
     "data": {
      "text/plain": "0         1990\n1         2004\n2         2007\n3         2006\n4         1999\n          ... \n396025    2004\n396026    2006\n396027    1997\n396028    1990\n396029    1998\nName: earliest_cr_line, Length: 395219, dtype: int64"
     },
     "execution_count": 136,
     "metadata": {},
     "output_type": "execute_result"
    }
   ],
   "source": [
    "df['earliest_cr_line']"
   ]
  },
  {
   "cell_type": "markdown",
   "metadata": {},
   "source": [
    "## Train Test Split"
   ]
  },
  {
   "cell_type": "markdown",
   "metadata": {},
   "source": [
    "**TASK: Import train_test_split from sklearn.**"
   ]
  },
  {
   "cell_type": "code",
   "execution_count": 140,
   "metadata": {
    "ExecuteTime": {
     "start_time": "2023-12-05T09:47:35.885046Z",
     "end_time": "2023-12-05T09:47:38.643859Z"
    }
   },
   "outputs": [],
   "source": [
    "from sklearn.model_selection import train_test_split"
   ]
  },
  {
   "cell_type": "markdown",
   "metadata": {},
   "source": [
    "**TASK: drop the loan_status column we created earlier, since its a duplicate of the loan_repaid column. We'll use the loan_repaid column since its already in 0s and 1s.**"
   ]
  },
  {
   "cell_type": "code",
   "execution_count": 137,
   "metadata": {
    "ExecuteTime": {
     "start_time": "2023-12-05T09:45:19.823183Z",
     "end_time": "2023-12-05T09:45:19.958952Z"
    }
   },
   "outputs": [],
   "source": [
    "df = df.drop('loan_status', axis=1)"
   ]
  },
  {
   "cell_type": "markdown",
   "metadata": {},
   "source": [
    "**TASK: Set X and y variables to the .values of the features and label.**"
   ]
  },
  {
   "cell_type": "code",
   "execution_count": 138,
   "metadata": {
    "ExecuteTime": {
     "start_time": "2023-12-05T09:46:20.849891Z",
     "end_time": "2023-12-05T09:46:21.102610Z"
    }
   },
   "outputs": [],
   "source": [
    "X = df.drop('loan_repaid', axis=1).values\n",
    "y = df['loan_repaid'].values"
   ]
  },
  {
   "cell_type": "markdown",
   "metadata": {},
   "source": [
    "----\n",
    "----\n",
    "\n",
    "# OPTIONAL\n",
    "\n",
    "## Grabbing a Sample for Training Time\n",
    "\n",
    "### OPTIONAL: Use .sample() to grab a sample of the 490k+ entries to save time on training. Highly recommended for lower RAM computers or if you are not using GPU.\n",
    "\n",
    "----\n",
    "----"
   ]
  },
  {
   "cell_type": "code",
   "execution_count": 62,
   "metadata": {
    "ExecuteTime": {
     "start_time": "2023-12-05T08:11:34.977837Z",
     "end_time": "2023-12-05T08:11:35.612162Z"
    }
   },
   "outputs": [
    {
     "name": "stdout",
     "output_type": "stream",
     "text": [
      "396030\n"
     ]
    }
   ],
   "source": [
    "# df = df.sample(frac=0.1,random_state=101)\n",
    "print(len(df))"
   ]
  },
  {
   "cell_type": "markdown",
   "metadata": {},
   "source": [
    "**TASK: Perform a train/test split with test_size=0.2 and a random_state of 101.**"
   ]
  },
  {
   "cell_type": "code",
   "execution_count": 141,
   "metadata": {
    "ExecuteTime": {
     "start_time": "2023-12-05T09:47:40.803984Z",
     "end_time": "2023-12-05T09:47:41.629817Z"
    }
   },
   "outputs": [],
   "source": [
    "X_train, X_test, y_train, y_test = train_test_split(X, y, test_size=0.2, random_state=101)"
   ]
  },
  {
   "cell_type": "markdown",
   "metadata": {},
   "source": [
    "## Normalizing the Data\n",
    "\n",
    "**TASK: Use a MinMaxScaler to normalize the feature data X_train and X_test. Recall we don't want data leakge from the test set so we only fit on the X_train data.**"
   ]
  },
  {
   "cell_type": "code",
   "execution_count": 142,
   "metadata": {
    "ExecuteTime": {
     "start_time": "2023-12-05T09:48:12.059517Z",
     "end_time": "2023-12-05T09:48:12.070467Z"
    }
   },
   "outputs": [],
   "source": [
    "from sklearn.preprocessing import MinMaxScaler"
   ]
  },
  {
   "cell_type": "code",
   "execution_count": 143,
   "metadata": {
    "ExecuteTime": {
     "start_time": "2023-12-05T09:48:24.107375Z",
     "end_time": "2023-12-05T09:48:24.125986Z"
    }
   },
   "outputs": [],
   "source": [
    "scaler = MinMaxScaler()"
   ]
  },
  {
   "cell_type": "code",
   "execution_count": 145,
   "metadata": {
    "ExecuteTime": {
     "start_time": "2023-12-05T09:48:56.061676Z",
     "end_time": "2023-12-05T09:48:57.354655Z"
    }
   },
   "outputs": [],
   "source": [
    "X_train = scaler.fit_transform(X_train)"
   ]
  },
  {
   "cell_type": "code",
   "execution_count": 146,
   "metadata": {
    "ExecuteTime": {
     "start_time": "2023-12-05T09:49:17.776959Z",
     "end_time": "2023-12-05T09:49:17.856618Z"
    }
   },
   "outputs": [],
   "source": [
    "X_test = scaler.transform(X_test)"
   ]
  },
  {
   "cell_type": "markdown",
   "metadata": {},
   "source": [
    "# Creating the Model\n",
    "\n",
    "**TASK: Run the cell below to import the necessary Keras functions.**"
   ]
  },
  {
   "cell_type": "code",
   "execution_count": null,
   "metadata": {
    "pycharm": {
     "is_executing": true
    }
   },
   "outputs": [],
   "source": [
    "import tensorflow as tf\n",
    "from tensorflow.keras.models import Sequential\n",
    "from tensorflow.keras.layers import Dense,Dropout"
   ]
  },
  {
   "cell_type": "markdown",
   "metadata": {},
   "source": [
    "**TASK: Build a sequential model to will be trained on the data. You have unlimited options here, but here is what the solution uses: a model that goes 78 --> 39 --> 19--> 1 output neuron. OPTIONAL: Explore adding [Dropout layers](https://keras.io/layers/core/) [1](https://en.wikipedia.org/wiki/Dropout_(neural_networks)) [2](https://towardsdatascience.com/machine-learning-part-20-dropout-keras-layers-explained-8c9f6dc4c9ab)**"
   ]
  },
  {
   "cell_type": "code",
   "execution_count": null,
   "metadata": {
    "pycharm": {
     "is_executing": true
    }
   },
   "outputs": [],
   "source": [
    "# CODE HERE\n",
    "model = Sequential()\n",
    "\n",
    "# Choose whatever number of layers/neurons you want.\n",
    "\n",
    "# https://stats.stackexchange.com/questions/181/how-to-choose-the-number-of-hidden-layers-and-nodes-in-a-feedforward-neural-netw\n",
    "\n",
    "# Remember to compile()"
   ]
  },
  {
   "cell_type": "code",
   "execution_count": null,
   "metadata": {
    "pycharm": {
     "is_executing": true
    }
   },
   "outputs": [],
   "source": []
  },
  {
   "cell_type": "markdown",
   "metadata": {},
   "source": [
    "**TASK: Fit the model to the training data for at least 25 epochs. Also add in the validation data for later plotting. Optional: add in a batch_size of 256.**"
   ]
  },
  {
   "cell_type": "code",
   "execution_count": null,
   "metadata": {
    "pycharm": {
     "is_executing": true
    }
   },
   "outputs": [],
   "source": [
    "# CODE HERE"
   ]
  },
  {
   "cell_type": "code",
   "execution_count": null,
   "metadata": {
    "pycharm": {
     "is_executing": true
    }
   },
   "outputs": [],
   "source": []
  },
  {
   "cell_type": "markdown",
   "metadata": {},
   "source": [
    "**TASK: OPTIONAL: Save your model.**"
   ]
  },
  {
   "cell_type": "code",
   "execution_count": null,
   "metadata": {
    "pycharm": {
     "is_executing": true
    }
   },
   "outputs": [],
   "source": [
    "# CODE HERE"
   ]
  },
  {
   "cell_type": "code",
   "execution_count": null,
   "metadata": {
    "pycharm": {
     "is_executing": true
    }
   },
   "outputs": [],
   "source": []
  },
  {
   "cell_type": "code",
   "execution_count": null,
   "metadata": {
    "pycharm": {
     "is_executing": true
    }
   },
   "outputs": [],
   "source": []
  },
  {
   "cell_type": "markdown",
   "metadata": {},
   "source": [
    "# Section 3: Evaluating Model Performance.\n",
    "\n",
    "**TASK: Plot out the validation loss versus the training loss.**"
   ]
  },
  {
   "cell_type": "code",
   "execution_count": null,
   "metadata": {
    "pycharm": {
     "is_executing": true
    }
   },
   "outputs": [],
   "source": [
    "# CODE HERE"
   ]
  },
  {
   "cell_type": "code",
   "execution_count": null,
   "metadata": {
    "pycharm": {
     "is_executing": true
    }
   },
   "outputs": [],
   "source": []
  },
  {
   "cell_type": "code",
   "execution_count": null,
   "metadata": {
    "pycharm": {
     "is_executing": true
    }
   },
   "outputs": [],
   "source": []
  },
  {
   "cell_type": "markdown",
   "metadata": {},
   "source": [
    "**TASK: Create predictions from the X_test set and display a classification report and confusion matrix for the X_test set.**"
   ]
  },
  {
   "cell_type": "code",
   "execution_count": null,
   "metadata": {
    "pycharm": {
     "is_executing": true
    }
   },
   "outputs": [],
   "source": [
    "# CODE HERE"
   ]
  },
  {
   "cell_type": "code",
   "execution_count": null,
   "metadata": {
    "pycharm": {
     "is_executing": true
    }
   },
   "outputs": [],
   "source": []
  },
  {
   "cell_type": "code",
   "execution_count": null,
   "metadata": {
    "pycharm": {
     "is_executing": true
    }
   },
   "outputs": [],
   "source": []
  },
  {
   "cell_type": "code",
   "execution_count": null,
   "metadata": {
    "pycharm": {
     "is_executing": true
    }
   },
   "outputs": [],
   "source": []
  },
  {
   "cell_type": "code",
   "execution_count": null,
   "metadata": {
    "pycharm": {
     "is_executing": true
    }
   },
   "outputs": [],
   "source": []
  },
  {
   "cell_type": "markdown",
   "metadata": {},
   "source": [
    "**TASK: Given the customer below, would you offer this person a loan?**"
   ]
  },
  {
   "cell_type": "code",
   "execution_count": null,
   "metadata": {
    "pycharm": {
     "is_executing": true
    }
   },
   "outputs": [],
   "source": [
    "import random\n",
    "random.seed(101)\n",
    "random_ind = random.randint(0,len(df))\n",
    "\n",
    "new_customer = df.drop('loan_repaid',axis=1).iloc[random_ind]\n",
    "new_customer"
   ]
  },
  {
   "cell_type": "code",
   "execution_count": null,
   "metadata": {
    "pycharm": {
     "is_executing": true
    }
   },
   "outputs": [],
   "source": [
    "# CODE HERE"
   ]
  },
  {
   "cell_type": "code",
   "execution_count": null,
   "metadata": {
    "pycharm": {
     "is_executing": true
    }
   },
   "outputs": [],
   "source": []
  },
  {
   "cell_type": "markdown",
   "metadata": {},
   "source": [
    "**TASK: Now check, did this person actually end up paying back their loan?**"
   ]
  },
  {
   "cell_type": "code",
   "execution_count": null,
   "metadata": {
    "pycharm": {
     "is_executing": true
    }
   },
   "outputs": [],
   "source": [
    "# CODE HERE"
   ]
  },
  {
   "cell_type": "code",
   "execution_count": null,
   "metadata": {
    "pycharm": {
     "is_executing": true
    }
   },
   "outputs": [],
   "source": []
  },
  {
   "cell_type": "markdown",
   "metadata": {},
   "source": [
    "# GREAT JOB!"
   ]
  }
 ],
 "metadata": {
  "kernelspec": {
   "display_name": "Python 3",
   "language": "python",
   "name": "python3"
  },
  "language_info": {
   "codemirror_mode": {
    "name": "ipython",
    "version": 3
   },
   "file_extension": ".py",
   "mimetype": "text/x-python",
   "name": "python",
   "nbconvert_exporter": "python",
   "pygments_lexer": "ipython3",
   "version": "3.7.4"
  }
 },
 "nbformat": 4,
 "nbformat_minor": 2
}
